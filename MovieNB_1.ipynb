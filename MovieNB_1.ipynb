{
 "cells": [
  {
   "cell_type": "markdown",
   "metadata": {},
   "source": [
    "## Movie Data Set Notebook #1 -- General Preprocessing"
   ]
  },
  {
   "cell_type": "code",
   "execution_count": 62,
   "metadata": {
    "collapsed": true
   },
   "outputs": [],
   "source": [
    "# General imports here.\n",
    "import pandas as pd\n",
    "import numpy as np\n",
    "import sklearn as sk\n",
    "import math\n",
    "import ast\n",
    "import matplotlib.pyplot as plt\n",
    "%matplotlib inline"
   ]
  },
  {
   "cell_type": "code",
   "execution_count": 63,
   "metadata": {
    "collapsed": true
   },
   "outputs": [],
   "source": [
    "# Read the csv files and index appropriately.\n",
    "#ratings_small_df = pd.read_csv('./data/ratings_small.csv')\n",
    "#ratings_df = pd.read_csv('./data/ratings.csv')\n",
    "#links_small_df = pd.read_csv('./data/links_small.csv')\n",
    "#links_df = pd.read_csv('./data/links.csv')\n",
    "keywords_df = pd.read_csv('./data/keywords.csv')\n",
    "credits_df = pd.read_csv('./data/credits.csv')\n",
    "metadata_df = pd.read_csv('./data/movies_metadata.csv')\n",
    "# Reading the movies_metadata.csv file throws a DtypeWarning.\n",
    "# It's the popularity feature. I deleted it."
   ]
  },
  {
   "cell_type": "code",
   "execution_count": 64,
   "metadata": {},
   "outputs": [
    {
     "name": "stdout",
     "output_type": "stream",
     "text": [
      "[   862   8844  15602 ...,  67758 227506 461257]\n",
      "int64\n"
     ]
    }
   ],
   "source": [
    "print(metadata_df.id.unique())\n",
    "print(metadata_df.id.dtype)\n",
    "# If dtype is not int64, go to the metadata CSV and delete all entries where 'adult' is not false.\n",
    "# I also deleted the adult column afterwards."
   ]
  },
  {
   "cell_type": "code",
   "execution_count": 65,
   "metadata": {
    "collapsed": true
   },
   "outputs": [],
   "source": [
    "# These three files seem to be the ones we want. Indexed on ID, we could probably combine them now.\n",
    "dataframes = (keywords_df, credits_df, metadata_df)\n",
    "# Pandas DataFrames don't have name attributes.\n",
    "df_names = (\"keywords\", \"credits\", \"movies_metadata\")\n",
    "keywords_df = keywords_df.set_index('id')\n",
    "credits_df = credits_df.set_index('id')\n",
    "metadata_df = metadata_df.set_index('id')\n",
    "None"
   ]
  },
  {
   "cell_type": "code",
   "execution_count": 66,
   "metadata": {
    "collapsed": true
   },
   "outputs": [],
   "source": [
    "# Join the useful data frames together\n",
    "temp = keywords_df.join(credits_df)\n",
    "movie_df = metadata_df.join(temp)"
   ]
  },
  {
   "cell_type": "code",
   "execution_count": 67,
   "metadata": {},
   "outputs": [],
   "source": [
    "# Here I'm just doing some of the same stuff \"The Story of Film\" did on Kaggle.\n",
    "# This all makes sense, it's pretty standard.\n",
    "movie_df = movie_df.drop(['imdb_id'], axis=1)\n",
    "movie_df = movie_df.drop(['original_title'], axis=1)\n",
    "movie_df = movie_df.drop(['video'], axis=1)\n",
    "base_poster_url = 'http://image.tmdb.org/t/p/w185/'\n",
    "movie_df['poster_path'] = \"<img src='\" + base_poster_url + movie_df['poster_path'] + \"' style='height:100px;'>\""
   ]
  },
  {
   "cell_type": "code",
   "execution_count": 68,
   "metadata": {
    "collapsed": true
   },
   "outputs": [],
   "source": [
    "# Clean up from https://www.kaggle.com/hadasik/movies-analysis-visualization-newbie\n",
    "def get_values(data_str):\n",
    "    if isinstance(data_str, float):\n",
    "        pass\n",
    "    else:\n",
    "        values = []\n",
    "        data_str = ast.literal_eval(data_str)\n",
    "        if isinstance(data_str, list):\n",
    "            for k_v in data_str:\n",
    "                values.append(k_v['name'])\n",
    "            return values\n",
    "        else:\n",
    "            return None\n",
    "        \n",
    "movie_df[['genres', 'production_companies', 'production_countries', 'spoken_languages', 'keywords']] = movie_df[['genres', 'production_companies', 'production_countries', 'spoken_languages', 'keywords']].applymap(get_values)"
   ]
  },
  {
   "cell_type": "code",
   "execution_count": 69,
   "metadata": {
    "collapsed": true
   },
   "outputs": [],
   "source": [
    "movie_df[['cast', 'crew']] = movie_df[['cast', 'crew']].applymap(get_values)\n",
    "# This takes a while to run.\n",
    "# Also, it gets rid of character data and position in the crew. We may want that information."
   ]
  },
  {
   "cell_type": "code",
   "execution_count": 70,
   "metadata": {
    "collapsed": true
   },
   "outputs": [],
   "source": [
    "# Make the Collection feature readable.\n",
    "temp = movie_df[movie_df['belongs_to_collection'].notnull()]\n",
    "temp = temp['belongs_to_collection'].apply(ast.literal_eval).apply(lambda x: x['name'] if isinstance(x, dict) else np.nan)\n",
    "for index in temp.index:\n",
    "    movie_df.loc[index, 'belongs_to_collection'] = temp.loc[index]\n",
    "movie_df['belongs_to_collection'].fillna(0, inplace=True)"
   ]
  },
  {
   "cell_type": "code",
   "execution_count": 71,
   "metadata": {},
   "outputs": [
    {
     "name": "stdout",
     "output_type": "stream",
     "text": [
      "(44809, 20)\n",
      "\n",
      "NaN Values: \n",
      "\n",
      "belongs_to_collection    0\n",
      "budget                   0\n",
      "genres                   0\n",
      "homepage                 0\n",
      "original_language        0\n",
      "overview                 0\n",
      "poster_path              0\n",
      "production_companies     0\n",
      "production_countries     0\n",
      "release_date             0\n",
      "revenue                  0\n",
      "runtime                  0\n",
      "spoken_languages         0\n",
      "tagline                  0\n",
      "title                    0\n",
      "vote_average             0\n",
      "vote_count               0\n",
      "keywords                 0\n",
      "cast                     0\n",
      "crew                     0\n",
      "dtype: int64\n"
     ]
    }
   ],
   "source": [
    "# I took care of some of the NaN values already.\n",
    "movie_df = movie_df[pd.notnull(movie_df['title'])]\n",
    "movie_df = movie_df[pd.notnull(movie_df['keywords'])]\n",
    "movie_df = movie_df[pd.notnull(movie_df['original_language'])]\n",
    "movie_df = movie_df[pd.notnull(movie_df['status'])]\n",
    "movie_df = movie_df[pd.notnull(movie_df['release_date'])]\n",
    "movie_df = movie_df[pd.notnull(movie_df['poster_path'])]\n",
    "movie_df = movie_df[pd.notnull(movie_df['overview'])]\n",
    "movie_df = movie_df[pd.notnull(movie_df['runtime'])]\n",
    "# Make the homepage feature a binary variable since we don't care what the URL is.\n",
    "movie_df['homepage'].fillna(0, inplace=True)\n",
    "movie_df.loc[movie_df['homepage'] != 0, 'homepage'] = 1\n",
    "# Tagline NaNs\n",
    "movie_df['tagline'].fillna(0, inplace=True)\n",
    "# Drop status when not released.\n",
    "movie_df = movie_df.loc[movie_df['status'] == 'Released']\n",
    "movie_df = movie_df.drop(['status'], axis = 1)\n",
    "\n",
    "print(movie_df.shape)\n",
    "print(\"\\nNaN Values: \\n\")\n",
    "print(movie_df.isnull().sum())"
   ]
  },
  {
   "cell_type": "code",
   "execution_count": 84,
   "metadata": {},
   "outputs": [
    {
     "data": {
      "text/html": [
       "<div>\n",
       "<style>\n",
       "    .dataframe thead tr:only-child th {\n",
       "        text-align: right;\n",
       "    }\n",
       "\n",
       "    .dataframe thead th {\n",
       "        text-align: left;\n",
       "    }\n",
       "\n",
       "    .dataframe tbody tr th {\n",
       "        vertical-align: top;\n",
       "    }\n",
       "</style>\n",
       "<table border=\"1\" class=\"dataframe\">\n",
       "  <thead>\n",
       "    <tr style=\"text-align: right;\">\n",
       "      <th>id</th>\n",
       "      <th>2</th>\n",
       "      <th>3</th>\n",
       "      <th>5</th>\n",
       "      <th>6</th>\n",
       "      <th>11</th>\n",
       "    </tr>\n",
       "  </thead>\n",
       "  <tbody>\n",
       "    <tr>\n",
       "      <th>belongs_to_collection</th>\n",
       "      <td>0</td>\n",
       "      <td>0</td>\n",
       "      <td>0</td>\n",
       "      <td>0</td>\n",
       "      <td>Star Wars Collection</td>\n",
       "    </tr>\n",
       "    <tr>\n",
       "      <th>budget</th>\n",
       "      <td>0</td>\n",
       "      <td>0</td>\n",
       "      <td>4000000</td>\n",
       "      <td>0</td>\n",
       "      <td>11000000</td>\n",
       "    </tr>\n",
       "    <tr>\n",
       "      <th>genres</th>\n",
       "      <td>[Drama, Crime]</td>\n",
       "      <td>[Drama, Comedy]</td>\n",
       "      <td>[Crime, Comedy]</td>\n",
       "      <td>[Action, Thriller, Crime]</td>\n",
       "      <td>[Adventure, Action, Science Fiction]</td>\n",
       "    </tr>\n",
       "    <tr>\n",
       "      <th>homepage</th>\n",
       "      <td>0</td>\n",
       "      <td>0</td>\n",
       "      <td>0</td>\n",
       "      <td>0</td>\n",
       "      <td>1</td>\n",
       "    </tr>\n",
       "    <tr>\n",
       "      <th>original_language</th>\n",
       "      <td>fi</td>\n",
       "      <td>fi</td>\n",
       "      <td>en</td>\n",
       "      <td>en</td>\n",
       "      <td>en</td>\n",
       "    </tr>\n",
       "    <tr>\n",
       "      <th>overview</th>\n",
       "      <td>Taisto Kasurinen is a Finnish coal miner whose...</td>\n",
       "      <td>An episode in the life of Nikander, a garbage ...</td>\n",
       "      <td>It's Ted the Bellhop's first night on the job....</td>\n",
       "      <td>While racing to a boxing match, Frank, Mike, J...</td>\n",
       "      <td>Princess Leia is captured and held hostage by ...</td>\n",
       "    </tr>\n",
       "    <tr>\n",
       "      <th>poster_path</th>\n",
       "      <td>&lt;img src='http://image.tmdb.org/t/p/w185//gZCJ...</td>\n",
       "      <td>&lt;img src='http://image.tmdb.org/t/p/w185//7ad4...</td>\n",
       "      <td>&lt;img src='http://image.tmdb.org/t/p/w185//eQs5...</td>\n",
       "      <td>&lt;img src='http://image.tmdb.org/t/p/w185//lNXm...</td>\n",
       "      <td>&lt;img src='http://image.tmdb.org/t/p/w185//btTd...</td>\n",
       "    </tr>\n",
       "    <tr>\n",
       "      <th>production_companies</th>\n",
       "      <td>[Villealfa Filmproduction Oy, Finnish Film Fou...</td>\n",
       "      <td>[Villealfa Filmproduction Oy]</td>\n",
       "      <td>[Miramax Films, A Band Apart]</td>\n",
       "      <td>[Universal Pictures, Largo Entertainment, JVC ...</td>\n",
       "      <td>[Lucasfilm, Twentieth Century Fox Film Corpora...</td>\n",
       "    </tr>\n",
       "    <tr>\n",
       "      <th>production_countries</th>\n",
       "      <td>[Finland]</td>\n",
       "      <td>[Finland]</td>\n",
       "      <td>[United States of America]</td>\n",
       "      <td>[Japan, United States of America]</td>\n",
       "      <td>[United States of America]</td>\n",
       "    </tr>\n",
       "    <tr>\n",
       "      <th>release_date</th>\n",
       "      <td>10/21/1988</td>\n",
       "      <td>10/16/1986</td>\n",
       "      <td>12/9/1995</td>\n",
       "      <td>10/15/1993</td>\n",
       "      <td>5/25/1977</td>\n",
       "    </tr>\n",
       "    <tr>\n",
       "      <th>revenue</th>\n",
       "      <td>0</td>\n",
       "      <td>0</td>\n",
       "      <td>4.3e+06</td>\n",
       "      <td>1.21369e+07</td>\n",
       "      <td>7.75398e+08</td>\n",
       "    </tr>\n",
       "    <tr>\n",
       "      <th>runtime</th>\n",
       "      <td>69</td>\n",
       "      <td>76</td>\n",
       "      <td>98</td>\n",
       "      <td>110</td>\n",
       "      <td>121</td>\n",
       "    </tr>\n",
       "    <tr>\n",
       "      <th>spoken_languages</th>\n",
       "      <td>[suomi, Deutsch]</td>\n",
       "      <td>[English, suomi, svenska]</td>\n",
       "      <td>[English]</td>\n",
       "      <td>[English]</td>\n",
       "      <td>[English]</td>\n",
       "    </tr>\n",
       "    <tr>\n",
       "      <th>tagline</th>\n",
       "      <td>0</td>\n",
       "      <td>0</td>\n",
       "      <td>Twelve outrageous guests. Four scandalous requ...</td>\n",
       "      <td>Don't move. Don't whisper. Don't even breathe.</td>\n",
       "      <td>A long time ago in a galaxy far, far away...</td>\n",
       "    </tr>\n",
       "    <tr>\n",
       "      <th>title</th>\n",
       "      <td>Ariel</td>\n",
       "      <td>Shadows in Paradise</td>\n",
       "      <td>Four Rooms</td>\n",
       "      <td>Judgment Night</td>\n",
       "      <td>Star Wars</td>\n",
       "    </tr>\n",
       "    <tr>\n",
       "      <th>vote_average</th>\n",
       "      <td>7.1</td>\n",
       "      <td>7.1</td>\n",
       "      <td>6.5</td>\n",
       "      <td>6.4</td>\n",
       "      <td>8.1</td>\n",
       "    </tr>\n",
       "    <tr>\n",
       "      <th>vote_count</th>\n",
       "      <td>44</td>\n",
       "      <td>35</td>\n",
       "      <td>539</td>\n",
       "      <td>79</td>\n",
       "      <td>6778</td>\n",
       "    </tr>\n",
       "    <tr>\n",
       "      <th>keywords</th>\n",
       "      <td>[underdog, prison, factory worker, prisoner, h...</td>\n",
       "      <td>[salesclerk, helsinki, garbage, independent film]</td>\n",
       "      <td>[hotel, new year's eve, witch, bet, hotel room...</td>\n",
       "      <td>[chicago, drug dealer, boxing match, escape, o...</td>\n",
       "      <td>[android, galaxy, hermit, death star, lightsab...</td>\n",
       "    </tr>\n",
       "    <tr>\n",
       "      <th>cast</th>\n",
       "      <td>[Turo Pajala, Susanna Haavisto, Matti Pellonpä...</td>\n",
       "      <td>[Matti Pellonpää, Kati Outinen, Sakari Kuosman...</td>\n",
       "      <td>[Tim Roth, Antonio Banderas, Jennifer Beals, M...</td>\n",
       "      <td>[Emilio Estevez, Cuba Gooding Jr., Denis Leary...</td>\n",
       "      <td>[Mark Hamill, Harrison Ford, Carrie Fisher, Pe...</td>\n",
       "    </tr>\n",
       "    <tr>\n",
       "      <th>crew</th>\n",
       "      <td>[Aki Kaurismäki, Aki Kaurismäki, Timo Salminen...</td>\n",
       "      <td>[Aki Kaurismäki, Aki Kaurismäki, Timo Salminen...</td>\n",
       "      <td>[Combustible Edison, Gary Frutkoff, Lance Brow...</td>\n",
       "      <td>[Stephen Hopkins, Lewis Colick, Gene Levy, Ala...</td>\n",
       "      <td>[George Lucas, George Lucas, George Lucas, Gar...</td>\n",
       "    </tr>\n",
       "  </tbody>\n",
       "</table>\n",
       "</div>"
      ],
      "text/plain": [
       "id                                                                    2   \\\n",
       "belongs_to_collection                                                  0   \n",
       "budget                                                                 0   \n",
       "genres                                                    [Drama, Crime]   \n",
       "homepage                                                               0   \n",
       "original_language                                                     fi   \n",
       "overview               Taisto Kasurinen is a Finnish coal miner whose...   \n",
       "poster_path            <img src='http://image.tmdb.org/t/p/w185//gZCJ...   \n",
       "production_companies   [Villealfa Filmproduction Oy, Finnish Film Fou...   \n",
       "production_countries                                           [Finland]   \n",
       "release_date                                                  10/21/1988   \n",
       "revenue                                                                0   \n",
       "runtime                                                               69   \n",
       "spoken_languages                                        [suomi, Deutsch]   \n",
       "tagline                                                                0   \n",
       "title                                                              Ariel   \n",
       "vote_average                                                         7.1   \n",
       "vote_count                                                            44   \n",
       "keywords               [underdog, prison, factory worker, prisoner, h...   \n",
       "cast                   [Turo Pajala, Susanna Haavisto, Matti Pellonpä...   \n",
       "crew                   [Aki Kaurismäki, Aki Kaurismäki, Timo Salminen...   \n",
       "\n",
       "id                                                                    3   \\\n",
       "belongs_to_collection                                                  0   \n",
       "budget                                                                 0   \n",
       "genres                                                   [Drama, Comedy]   \n",
       "homepage                                                               0   \n",
       "original_language                                                     fi   \n",
       "overview               An episode in the life of Nikander, a garbage ...   \n",
       "poster_path            <img src='http://image.tmdb.org/t/p/w185//7ad4...   \n",
       "production_companies                       [Villealfa Filmproduction Oy]   \n",
       "production_countries                                           [Finland]   \n",
       "release_date                                                  10/16/1986   \n",
       "revenue                                                                0   \n",
       "runtime                                                               76   \n",
       "spoken_languages                               [English, suomi, svenska]   \n",
       "tagline                                                                0   \n",
       "title                                                Shadows in Paradise   \n",
       "vote_average                                                         7.1   \n",
       "vote_count                                                            35   \n",
       "keywords               [salesclerk, helsinki, garbage, independent film]   \n",
       "cast                   [Matti Pellonpää, Kati Outinen, Sakari Kuosman...   \n",
       "crew                   [Aki Kaurismäki, Aki Kaurismäki, Timo Salminen...   \n",
       "\n",
       "id                                                                    5   \\\n",
       "belongs_to_collection                                                  0   \n",
       "budget                                                           4000000   \n",
       "genres                                                   [Crime, Comedy]   \n",
       "homepage                                                               0   \n",
       "original_language                                                     en   \n",
       "overview               It's Ted the Bellhop's first night on the job....   \n",
       "poster_path            <img src='http://image.tmdb.org/t/p/w185//eQs5...   \n",
       "production_companies                       [Miramax Films, A Band Apart]   \n",
       "production_countries                          [United States of America]   \n",
       "release_date                                                   12/9/1995   \n",
       "revenue                                                          4.3e+06   \n",
       "runtime                                                               98   \n",
       "spoken_languages                                               [English]   \n",
       "tagline                Twelve outrageous guests. Four scandalous requ...   \n",
       "title                                                         Four Rooms   \n",
       "vote_average                                                         6.5   \n",
       "vote_count                                                           539   \n",
       "keywords               [hotel, new year's eve, witch, bet, hotel room...   \n",
       "cast                   [Tim Roth, Antonio Banderas, Jennifer Beals, M...   \n",
       "crew                   [Combustible Edison, Gary Frutkoff, Lance Brow...   \n",
       "\n",
       "id                                                                    6   \\\n",
       "belongs_to_collection                                                  0   \n",
       "budget                                                                 0   \n",
       "genres                                         [Action, Thriller, Crime]   \n",
       "homepage                                                               0   \n",
       "original_language                                                     en   \n",
       "overview               While racing to a boxing match, Frank, Mike, J...   \n",
       "poster_path            <img src='http://image.tmdb.org/t/p/w185//lNXm...   \n",
       "production_companies   [Universal Pictures, Largo Entertainment, JVC ...   \n",
       "production_countries                   [Japan, United States of America]   \n",
       "release_date                                                  10/15/1993   \n",
       "revenue                                                      1.21369e+07   \n",
       "runtime                                                              110   \n",
       "spoken_languages                                               [English]   \n",
       "tagline                   Don't move. Don't whisper. Don't even breathe.   \n",
       "title                                                     Judgment Night   \n",
       "vote_average                                                         6.4   \n",
       "vote_count                                                            79   \n",
       "keywords               [chicago, drug dealer, boxing match, escape, o...   \n",
       "cast                   [Emilio Estevez, Cuba Gooding Jr., Denis Leary...   \n",
       "crew                   [Stephen Hopkins, Lewis Colick, Gene Levy, Ala...   \n",
       "\n",
       "id                                                                    11  \n",
       "belongs_to_collection                               Star Wars Collection  \n",
       "budget                                                          11000000  \n",
       "genres                              [Adventure, Action, Science Fiction]  \n",
       "homepage                                                               1  \n",
       "original_language                                                     en  \n",
       "overview               Princess Leia is captured and held hostage by ...  \n",
       "poster_path            <img src='http://image.tmdb.org/t/p/w185//btTd...  \n",
       "production_companies   [Lucasfilm, Twentieth Century Fox Film Corpora...  \n",
       "production_countries                          [United States of America]  \n",
       "release_date                                                   5/25/1977  \n",
       "revenue                                                      7.75398e+08  \n",
       "runtime                                                              121  \n",
       "spoken_languages                                               [English]  \n",
       "tagline                     A long time ago in a galaxy far, far away...  \n",
       "title                                                          Star Wars  \n",
       "vote_average                                                         8.1  \n",
       "vote_count                                                          6778  \n",
       "keywords               [android, galaxy, hermit, death star, lightsab...  \n",
       "cast                   [Mark Hamill, Harrison Ford, Carrie Fisher, Pe...  \n",
       "crew                   [George Lucas, George Lucas, George Lucas, Gar...  "
      ]
     },
     "execution_count": 84,
     "metadata": {},
     "output_type": "execute_result"
    }
   ],
   "source": [
    "# belongs_to_collection: Similar to tagline, we may just want a binary variable\n",
    "# poster_path: The links inside it seem to work after adding the base URL. Toy Story works, at least.\n",
    "# tagline: Until we actually analyze the taglines, I think we should just replace with a tag_presence binary variable\n",
    "# revenue and budget are both missing a lot of data, we'll have to deal with that.\n",
    "\n",
    "movie_df.head().transpose()"
   ]
  },
  {
   "cell_type": "code",
   "execution_count": 85,
   "metadata": {},
   "outputs": [
    {
     "data": {
      "text/html": [
       "<div>\n",
       "<style>\n",
       "    .dataframe thead tr:only-child th {\n",
       "        text-align: right;\n",
       "    }\n",
       "\n",
       "    .dataframe thead th {\n",
       "        text-align: left;\n",
       "    }\n",
       "\n",
       "    .dataframe tbody tr th {\n",
       "        vertical-align: top;\n",
       "    }\n",
       "</style>\n",
       "<table border=\"1\" class=\"dataframe\">\n",
       "  <thead>\n",
       "    <tr style=\"text-align: right;\">\n",
       "      <th></th>\n",
       "      <th>budget</th>\n",
       "      <th>revenue</th>\n",
       "      <th>runtime</th>\n",
       "      <th>vote_average</th>\n",
       "      <th>vote_count</th>\n",
       "    </tr>\n",
       "  </thead>\n",
       "  <tbody>\n",
       "    <tr>\n",
       "      <th>count</th>\n",
       "      <td>4.480900e+04</td>\n",
       "      <td>4.480900e+04</td>\n",
       "      <td>44809.000000</td>\n",
       "      <td>44809.000000</td>\n",
       "      <td>44809.000000</td>\n",
       "    </tr>\n",
       "    <tr>\n",
       "      <th>mean</th>\n",
       "      <td>4.326793e+06</td>\n",
       "      <td>1.147099e+07</td>\n",
       "      <td>95.436586</td>\n",
       "      <td>5.670048</td>\n",
       "      <td>112.253186</td>\n",
       "    </tr>\n",
       "    <tr>\n",
       "      <th>std</th>\n",
       "      <td>1.760014e+07</td>\n",
       "      <td>6.504556e+07</td>\n",
       "      <td>37.242841</td>\n",
       "      <td>1.850511</td>\n",
       "      <td>495.731625</td>\n",
       "    </tr>\n",
       "    <tr>\n",
       "      <th>min</th>\n",
       "      <td>0.000000e+00</td>\n",
       "      <td>0.000000e+00</td>\n",
       "      <td>0.000000</td>\n",
       "      <td>0.000000</td>\n",
       "      <td>0.000000</td>\n",
       "    </tr>\n",
       "    <tr>\n",
       "      <th>25%</th>\n",
       "      <td>0.000000e+00</td>\n",
       "      <td>0.000000e+00</td>\n",
       "      <td>86.000000</td>\n",
       "      <td>5.000000</td>\n",
       "      <td>3.000000</td>\n",
       "    </tr>\n",
       "    <tr>\n",
       "      <th>50%</th>\n",
       "      <td>0.000000e+00</td>\n",
       "      <td>0.000000e+00</td>\n",
       "      <td>95.000000</td>\n",
       "      <td>6.000000</td>\n",
       "      <td>10.000000</td>\n",
       "    </tr>\n",
       "    <tr>\n",
       "      <th>75%</th>\n",
       "      <td>0.000000e+00</td>\n",
       "      <td>0.000000e+00</td>\n",
       "      <td>107.000000</td>\n",
       "      <td>6.800000</td>\n",
       "      <td>36.000000</td>\n",
       "    </tr>\n",
       "    <tr>\n",
       "      <th>max</th>\n",
       "      <td>3.800000e+08</td>\n",
       "      <td>2.787965e+09</td>\n",
       "      <td>1256.000000</td>\n",
       "      <td>10.000000</td>\n",
       "      <td>14075.000000</td>\n",
       "    </tr>\n",
       "  </tbody>\n",
       "</table>\n",
       "</div>"
      ],
      "text/plain": [
       "             budget       revenue       runtime  vote_average    vote_count\n",
       "count  4.480900e+04  4.480900e+04  44809.000000  44809.000000  44809.000000\n",
       "mean   4.326793e+06  1.147099e+07     95.436586      5.670048    112.253186\n",
       "std    1.760014e+07  6.504556e+07     37.242841      1.850511    495.731625\n",
       "min    0.000000e+00  0.000000e+00      0.000000      0.000000      0.000000\n",
       "25%    0.000000e+00  0.000000e+00     86.000000      5.000000      3.000000\n",
       "50%    0.000000e+00  0.000000e+00     95.000000      6.000000     10.000000\n",
       "75%    0.000000e+00  0.000000e+00    107.000000      6.800000     36.000000\n",
       "max    3.800000e+08  2.787965e+09   1256.000000     10.000000  14075.000000"
      ]
     },
     "execution_count": 85,
     "metadata": {},
     "output_type": "execute_result"
    }
   ],
   "source": [
    "movie_df.describe()"
   ]
  },
  {
   "cell_type": "code",
   "execution_count": 86,
   "metadata": {},
   "outputs": [
    {
     "name": "stdout",
     "output_type": "stream",
     "text": [
      "(44809, 20)\n"
     ]
    },
    {
     "data": {
      "image/png": "[encoded data removed]",
      "text/plain": [
       "<matplotlib.figure.Figure at 0x27ba57d27f0>"
      ]
     },
     "metadata": {},
     "output_type": "display_data"
    }
   ],
   "source": [
    "print(movie_df.shape)\n",
    "_ = movie_df.hist(figsize=(8,8))"
   ]
  },
  {
   "cell_type": "code",
   "execution_count": 87,
   "metadata": {},
   "outputs": [
    {
     "data": {
      "image/png": "[encoded data removed]",
      "text/plain": [
       "<matplotlib.figure.Figure at 0x27ba57e5b70>"
      ]
     },
     "metadata": {},
     "output_type": "display_data"
    }
   ],
   "source": [
    "# A quick heatmap. It seems revenue and the number of votes are correlated.\n",
    "import seaborn as sns\n",
    "corr = movie_df.corr()\n",
    "mask = np.zeros_like(corr)\n",
    "mask[np.triu_indices_from(mask)] = True\n",
    "plt.figure(figsize=(8, 8))\n",
    "_ = sns.heatmap(corr, vmax=1, vmin=-1, mask=mask, square=True, annot=True, linewidths=0.2, center=0)"
   ]
  },
  {
   "cell_type": "code",
   "execution_count": 88,
   "metadata": {},
   "outputs": [
    {
     "name": "stdout",
     "output_type": "stream",
     "text": [
      "belongs_to_collection                                 Toy Story Collection\n",
      "budget                                                            30000000\n",
      "genres                                         [Animation, Comedy, Family]\n",
      "homepage                                                                 1\n",
      "original_language                                                       en\n",
      "overview                 Led by Woody, Andy's toys live happily in his ...\n",
      "poster_path              <img src='http://image.tmdb.org/t/p/w185//rhIR...\n",
      "production_companies                             [Pixar Animation Studios]\n",
      "production_countries                            [United States of America]\n",
      "release_date                                                    10/30/1995\n",
      "revenue                                                        3.73554e+08\n",
      "runtime                                                                 81\n",
      "spoken_languages                                                 [English]\n",
      "tagline                                                                  0\n",
      "title                                                            Toy Story\n",
      "vote_average                                                           7.7\n",
      "vote_count                                                            5415\n",
      "keywords                 [jealousy, toy, boy, friendship, friends, riva...\n",
      "cast                     [Tom Hanks, Tim Allen, Don Rickles, Jim Varney...\n",
      "crew                     [John Lasseter, Joss Whedon, Andrew Stanton, J...\n",
      "Name: 862, dtype: object\n"
     ]
    }
   ],
   "source": [
    "# Toy Story Entry Example, looking it up by ID number\n",
    "print(movie_df.loc[862])"
   ]
  },
  {
   "cell_type": "code",
   "execution_count": 18,
   "metadata": {},
   "outputs": [
    {
     "name": "stdout",
     "output_type": "stream",
     "text": [
      "0\n",
      "10000\n",
      "20000\n",
      "30000\n",
      "40000\n",
      "50000\n",
      "60000\n",
      "70000\n",
      "80000\n",
      "90000\n",
      "100000\n",
      "110000\n",
      "120000\n",
      "130000\n",
      "140000\n",
      "150000\n",
      "160000\n",
      "170000\n",
      "180000\n",
      "190000\n",
      "200000\n",
      "210000\n",
      "220000\n",
      "230000\n",
      "240000\n",
      "250000\n",
      "260000\n",
      "270000\n",
      "280000\n",
      "290000\n",
      "300000\n",
      "310000\n",
      "320000\n",
      "330000\n",
      "340000\n",
      "350000\n",
      "360000\n",
      "370000\n",
      "380000\n",
      "390000\n",
      "400000\n",
      "410000\n",
      "420000\n",
      "430000\n",
      "440000\n",
      "450000\n",
      "460000\n",
      "470000\n",
      "480000\n",
      "490000\n",
      "500000\n",
      "510000\n",
      "520000\n",
      "530000\n",
      "540000\n",
      "550000\n",
      "560000\n"
     ]
    }
   ],
   "source": [
    "actors = []\n",
    "num_movies = []\n",
    "revenue_avg = []\n",
    "counter = 0\n",
    "for index, row in movie_df.iterrows():\n",
    "    cast = row[20]\n",
    "    revenue = row[10]\n",
    "    for person in cast:\n",
    "        try:\n",
    "            index = actors.index(person)\n",
    "        except:\n",
    "            index = -1\n",
    "        if(index != -1):\n",
    "            temp = revenue_avg[index] * num_movies[index]\n",
    "            temp += revenue\n",
    "            num_movies[index] += 1\n",
    "            revenue_avg[index] = temp/num_movies[index]\n",
    "        else:\n",
    "            actors.append(person)\n",
    "            num_movies.append(1)\n",
    "            revenue_avg.append(revenue)\n",
    "        if(counter%10000 == 0):\n",
    "            print(counter)\n",
    "        counter += 1"
   ]
  },
  {
   "cell_type": "code",
   "execution_count": 19,
   "metadata": {},
   "outputs": [
    {
     "data": {
      "image/png": "[encoded data removed]",
      "text/plain": [
       "<matplotlib.figure.Figure at 0x27beca0ff98>"
      ]
     },
     "metadata": {},
     "output_type": "display_data"
    }
   ],
   "source": [
    "x = []\n",
    "for i in range(0,len(actors)):\n",
    "    x.append(i)\n",
    "plt.plot(x,revenue_avg, 'ro')\n",
    "plt.show()"
   ]
  },
  {
   "cell_type": "code",
   "execution_count": 20,
   "metadata": {},
   "outputs": [
    {
     "data": {
      "image/png": "[encoded data removed]",
      "text/plain": [
       "<matplotlib.figure.Figure at 0x27befcc5400>"
      ]
     },
     "metadata": {},
     "output_type": "display_data"
    }
   ],
   "source": [
    "plt.plot(x,num_movies, 'ro')\n",
    "plt.show()"
   ]
  },
  {
   "cell_type": "code",
   "execution_count": 21,
   "metadata": {
    "scrolled": true
   },
   "outputs": [
    {
     "data": {
      "image/png": "[encoded data removed]",
      "text/plain": [
       "<matplotlib.figure.Figure at 0x27bcc895cf8>"
      ]
     },
     "metadata": {},
     "output_type": "display_data"
    }
   ],
   "source": [
    "shifted_revenue = []\n",
    "for i in range(0,len(revenue_avg)):\n",
    "    shifted_revenue.append(revenue_avg[i] * num_movies[i])\n",
    "plt.plot(x,shifted_revenue, 'ro')\n",
    "plt.show()"
   ]
  },
  {
   "cell_type": "code",
   "execution_count": 22,
   "metadata": {},
   "outputs": [
    {
     "name": "stdout",
     "output_type": "stream",
     "text": [
      "Stan Lee\n",
      "49\n",
      "396223623.5714286\n",
      "19414957555.0\n"
     ]
    }
   ],
   "source": [
    "shift_idx = shifted_revenue.index(max(shifted_revenue))\n",
    "print(actors[shift_idx])\n",
    "print(num_movies[shift_idx])\n",
    "print(revenue_avg[shift_idx])\n",
    "print(shifted_revenue[shift_idx])"
   ]
  },
  {
   "cell_type": "code",
   "execution_count": 23,
   "metadata": {},
   "outputs": [
    {
     "name": "stdout",
     "output_type": "stream",
     "text": [
      "Sean Anthony Moran\n",
      "1\n",
      "2787965087.0\n",
      "Bess Flowers\n",
      "242\n",
      "1524434.9545454553\n",
      "Tom Hanks\n",
      "72\n",
      "138001974.58333334\n",
      "Sam Worthington\n",
      "28\n",
      "153375273.0\n"
     ]
    }
   ],
   "source": [
    "idx = revenue_avg.index(max(revenue_avg))\n",
    "print(actors[idx])\n",
    "print(num_movies[idx])\n",
    "print(revenue_avg[idx])\n",
    "idx2 = num_movies.index(max(num_movies))\n",
    "print(actors[idx2])\n",
    "print(num_movies[idx2])\n",
    "print(revenue_avg[idx2])\n",
    "idx3 = actors.index(\"Tom Hanks\")\n",
    "print(actors[idx3])\n",
    "print(num_movies[idx3])\n",
    "print(revenue_avg[idx3])\n",
    "idx4 = actors.index(\"Sam Worthington\")\n",
    "print(actors[idx4])\n",
    "print(num_movies[idx4])\n",
    "print(revenue_avg[idx4])"
   ]
  },
  {
   "cell_type": "code",
   "execution_count": 89,
   "metadata": {},
   "outputs": [
    {
     "name": "stdout",
     "output_type": "stream",
     "text": [
      "Toy Story Collection\n"
     ]
    }
   ],
   "source": [
    "print(movie_df.loc[862]['belongs_to_collection'])"
   ]
  },
  {
   "cell_type": "code",
   "execution_count": 90,
   "metadata": {},
   "outputs": [
    {
     "name": "stdout",
     "output_type": "stream",
     "text": [
      "['Tom Hanks', 'Tim Allen', 'Don Rickles', 'Jim Varney', 'Wallace Shawn', 'John Ratzenberger', 'Annie Potts', 'John Morris', 'Erik von Detten', 'Laurie Metcalf', 'R. Lee Ermey', 'Sarah Freeman', 'Penn Jillette']\n"
     ]
    }
   ],
   "source": [
    "print(movie_df.loc[862]['cast'])"
   ]
  },
  {
   "cell_type": "code",
   "execution_count": 98,
   "metadata": {},
   "outputs": [
    {
     "data": {
      "text/plain": [
       "(32199, 20)"
      ]
     },
     "execution_count": 98,
     "metadata": {},
     "output_type": "execute_result"
    }
   ],
   "source": [
    "# We could only do movies where the original language is English.\n",
    "movie_df.loc[movie_df['original_language'] == 'en'].shape"
   ]
  },
  {
   "cell_type": "code",
   "execution_count": null,
   "metadata": {
    "collapsed": true
   },
   "outputs": [],
   "source": []
  }
 ],
 "metadata": {
  "kernelspec": {
   "display_name": "Python 3",
   "language": "python",
   "name": "python3"
  },
  "language_info": {
   "codemirror_mode": {
    "name": "ipython",
    "version": 3
   },
   "file_extension": ".py",
   "mimetype": "text/x-python",
   "name": "python",
   "nbconvert_exporter": "python",
   "pygments_lexer": "ipython3",
   "version": "3.6.3"
  }
 },
 "nbformat": 4,
 "nbformat_minor": 2
}
