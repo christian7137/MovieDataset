{
 "cells": [
  {
   "cell_type": "markdown",
   "metadata": {},
   "source": [
    "## Temp"
   ]
  },
  {
   "cell_type": "code",
   "execution_count": 546,
   "metadata": {
    "collapsed": true
   },
   "outputs": [],
   "source": [
    "# General imports here.\n",
    "import pandas as pd\n",
    "import numpy as np\n",
    "import sklearn as sk\n",
    "import math\n",
    "import matplotlib.pyplot as plt\n",
    "%matplotlib inline"
   ]
  },
  {
   "cell_type": "code",
   "execution_count": 547,
   "metadata": {
    "collapsed": true
   },
   "outputs": [],
   "source": [
    "# Read the csv files and index appropriately.\n",
    "#ratings_small_df = pd.read_csv('./data/ratings_small.csv')\n",
    "#ratings_df = pd.read_csv('./data/ratings.csv')\n",
    "#links_small_df = pd.read_csv('./data/links_small.csv')\n",
    "#links_df = pd.read_csv('./data/links.csv')\n",
    "keywords_df = pd.read_csv('./data/keywords.csv')\n",
    "credits_df = pd.read_csv('./data/credits.csv')\n",
    "metadata_df = pd.read_csv('./data/movies_metadata.csv')\n",
    "# Reading the movies_metadata.csv file throws a DtypeWarning.\n",
    "# It's the popularity feature. I deleted it."
   ]
  },
  {
   "cell_type": "code",
   "execution_count": 548,
   "metadata": {
    "collapsed": true
   },
   "outputs": [],
   "source": [
    "dataframes = (ratings_small_df, ratings_df, links_small_df, links_df, keywords_df, credits_df, metadata_df)\n",
    "# Pandas DataFrames don't have name attributes.\n",
    "df_names = (\"ratings_small\", \"ratings\", \"links_small\", \"links\", \"keywords\", \"credits\", \"movies_metadata\")"
   ]
  },
  {
   "cell_type": "code",
   "execution_count": 549,
   "metadata": {},
   "outputs": [
    {
     "name": "stdout",
     "output_type": "stream",
     "text": [
      "\n",
      "Dataframe: ratings_small\n",
      "NaN Values:\n",
      "userId       0\n",
      "movieId      0\n",
      "rating       0\n",
      "timestamp    0\n",
      "dtype: int64\n",
      "\n",
      "Dataframe: ratings\n",
      "NaN Values:\n",
      "userId       0\n",
      "movieId      0\n",
      "rating       0\n",
      "timestamp    0\n",
      "dtype: int64\n",
      "\n",
      "Dataframe: links_small\n",
      "NaN Values:\n",
      "movieId     0\n",
      "imdbId      0\n",
      "tmdbId     13\n",
      "dtype: int64\n",
      "\n",
      "Dataframe: links\n",
      "NaN Values:\n",
      "movieId      0\n",
      "imdbId       0\n",
      "tmdbId     219\n",
      "dtype: int64\n",
      "\n",
      "Dataframe: keywords\n",
      "NaN Values:\n",
      "id          0\n",
      "keywords    0\n",
      "dtype: int64\n",
      "\n",
      "Dataframe: credits\n",
      "NaN Values:\n",
      "cast    0\n",
      "crew    0\n",
      "id      0\n",
      "dtype: int64\n",
      "\n",
      "Dataframe: movies_metadata\n",
      "NaN Values:\n",
      "belongs_to_collection    40963\n",
      "budget                       0\n",
      "genres                       0\n",
      "homepage                 37677\n",
      "id                           0\n",
      "imdb_id                     17\n",
      "original_language           11\n",
      "original_title               0\n",
      "overview                   954\n",
      "poster_path                386\n",
      "production_companies         3\n",
      "production_countries         3\n",
      "release_date                86\n",
      "revenue                      3\n",
      "runtime                    260\n",
      "spoken_languages             3\n",
      "status                      84\n",
      "tagline                  25048\n",
      "title                        3\n",
      "video                        3\n",
      "vote_average                 3\n",
      "vote_count                   3\n",
      "dtype: int64\n"
     ]
    }
   ],
   "source": [
    "# Print the names of all the features in each file.\n",
    "for df, name in zip(dataframes, df_names):\n",
    "    print(\"\\n\" + \"Dataframe: \" + name + \"\\nNaN Values:\")\n",
    "    print(df.isnull().sum())"
   ]
  },
  {
   "cell_type": "code",
   "execution_count": 550,
   "metadata": {},
   "outputs": [
    {
     "name": "stdout",
     "output_type": "stream",
     "text": [
      "[    862.    8844.   15602. ...,  391698.  137608.  410803.]\n"
     ]
    }
   ],
   "source": [
    "# links_small has some NaN values. Print the unique values to see what we're expecting. \n",
    "print(links_small_df.tmdbId.unique())\n",
    "# It's in the tmdbId column, which seem to be ID numbers for some movies.\n",
    "# We probably won't use links in actual analysis, so I'm not going to worry about it."
   ]
  },
  {
   "cell_type": "code",
   "execution_count": 551,
   "metadata": {},
   "outputs": [
    {
     "data": {
      "text/html": [
       "<div>\n",
       "<style>\n",
       "    .dataframe thead tr:only-child th {\n",
       "        text-align: right;\n",
       "    }\n",
       "\n",
       "    .dataframe thead th {\n",
       "        text-align: left;\n",
       "    }\n",
       "\n",
       "    .dataframe tbody tr th {\n",
       "        vertical-align: top;\n",
       "    }\n",
       "</style>\n",
       "<table border=\"1\" class=\"dataframe\">\n",
       "  <thead>\n",
       "    <tr style=\"text-align: right;\">\n",
       "      <th></th>\n",
       "      <th>belongs_to_collection</th>\n",
       "      <th>budget</th>\n",
       "      <th>genres</th>\n",
       "      <th>homepage</th>\n",
       "      <th>id</th>\n",
       "      <th>imdb_id</th>\n",
       "      <th>original_language</th>\n",
       "      <th>original_title</th>\n",
       "      <th>overview</th>\n",
       "      <th>poster_path</th>\n",
       "      <th>...</th>\n",
       "      <th>release_date</th>\n",
       "      <th>revenue</th>\n",
       "      <th>runtime</th>\n",
       "      <th>spoken_languages</th>\n",
       "      <th>status</th>\n",
       "      <th>tagline</th>\n",
       "      <th>title</th>\n",
       "      <th>video</th>\n",
       "      <th>vote_average</th>\n",
       "      <th>vote_count</th>\n",
       "    </tr>\n",
       "  </thead>\n",
       "  <tbody>\n",
       "    <tr>\n",
       "      <th>0</th>\n",
       "      <td>{'id': 10194, 'name': 'Toy Story Collection', ...</td>\n",
       "      <td>30000000</td>\n",
       "      <td>[{'id': 16, 'name': 'Animation'}, {'id': 35, '...</td>\n",
       "      <td>http://toystory.disney.com/toy-story</td>\n",
       "      <td>862</td>\n",
       "      <td>tt0114709</td>\n",
       "      <td>en</td>\n",
       "      <td>Toy Story</td>\n",
       "      <td>Led by Woody, Andy's toys live happily in his ...</td>\n",
       "      <td>/rhIRbceoE9lR4veEXuwCC2wARtG.jpg</td>\n",
       "      <td>...</td>\n",
       "      <td>10/30/1995</td>\n",
       "      <td>373554033.0</td>\n",
       "      <td>81.0</td>\n",
       "      <td>[{'iso_639_1': 'en', 'name': 'English'}]</td>\n",
       "      <td>Released</td>\n",
       "      <td>NaN</td>\n",
       "      <td>Toy Story</td>\n",
       "      <td>False</td>\n",
       "      <td>7.7</td>\n",
       "      <td>5415.0</td>\n",
       "    </tr>\n",
       "    <tr>\n",
       "      <th>1</th>\n",
       "      <td>NaN</td>\n",
       "      <td>65000000</td>\n",
       "      <td>[{'id': 12, 'name': 'Adventure'}, {'id': 14, '...</td>\n",
       "      <td>NaN</td>\n",
       "      <td>8844</td>\n",
       "      <td>tt0113497</td>\n",
       "      <td>en</td>\n",
       "      <td>Jumanji</td>\n",
       "      <td>When siblings Judy and Peter discover an encha...</td>\n",
       "      <td>/vzmL6fP7aPKNKPRTFnZmiUfciyV.jpg</td>\n",
       "      <td>...</td>\n",
       "      <td>12/15/1995</td>\n",
       "      <td>262797249.0</td>\n",
       "      <td>104.0</td>\n",
       "      <td>[{'iso_639_1': 'en', 'name': 'English'}, {'iso...</td>\n",
       "      <td>Released</td>\n",
       "      <td>Roll the dice and unleash the excitement!</td>\n",
       "      <td>Jumanji</td>\n",
       "      <td>False</td>\n",
       "      <td>6.9</td>\n",
       "      <td>2413.0</td>\n",
       "    </tr>\n",
       "  </tbody>\n",
       "</table>\n",
       "<p>2 rows × 22 columns</p>\n",
       "</div>"
      ],
      "text/plain": [
       "                               belongs_to_collection    budget  \\\n",
       "0  {'id': 10194, 'name': 'Toy Story Collection', ...  30000000   \n",
       "1                                                NaN  65000000   \n",
       "\n",
       "                                              genres  \\\n",
       "0  [{'id': 16, 'name': 'Animation'}, {'id': 35, '...   \n",
       "1  [{'id': 12, 'name': 'Adventure'}, {'id': 14, '...   \n",
       "\n",
       "                               homepage    id    imdb_id original_language  \\\n",
       "0  http://toystory.disney.com/toy-story   862  tt0114709                en   \n",
       "1                                   NaN  8844  tt0113497                en   \n",
       "\n",
       "  original_title                                           overview  \\\n",
       "0      Toy Story  Led by Woody, Andy's toys live happily in his ...   \n",
       "1        Jumanji  When siblings Judy and Peter discover an encha...   \n",
       "\n",
       "                        poster_path    ...     release_date      revenue  \\\n",
       "0  /rhIRbceoE9lR4veEXuwCC2wARtG.jpg    ...       10/30/1995  373554033.0   \n",
       "1  /vzmL6fP7aPKNKPRTFnZmiUfciyV.jpg    ...       12/15/1995  262797249.0   \n",
       "\n",
       "  runtime                                   spoken_languages    status  \\\n",
       "0    81.0           [{'iso_639_1': 'en', 'name': 'English'}]  Released   \n",
       "1   104.0  [{'iso_639_1': 'en', 'name': 'English'}, {'iso...  Released   \n",
       "\n",
       "                                     tagline      title  video vote_average  \\\n",
       "0                                        NaN  Toy Story  False          7.7   \n",
       "1  Roll the dice and unleash the excitement!    Jumanji  False          6.9   \n",
       "\n",
       "  vote_count  \n",
       "0     5415.0  \n",
       "1     2413.0  \n",
       "\n",
       "[2 rows x 22 columns]"
      ]
     },
     "execution_count": 551,
     "metadata": {},
     "output_type": "execute_result"
    }
   ],
   "source": [
    "# Lots of NaNs in movie_metadata, just print out the first couple of entries to see what's going on.\n",
    "metadata_df.head(2)\n",
    "# belongs_to_collection seems fine, that's not simple data and is probably just Python being confused about what to expect.\n",
    "# homepage throws NaN when there's not a homepage it seems. Probably want to do a one-hot replacement here.\n",
    "# imdb_id is missing 17 IDs, we should probably just drop these movies.\n",
    "# original_language: 11, just drop them.\n",
    "# overview:\n",
    "# popularity: 5, just drop them.\n",
    "# poster_path:\n",
    "# production (general): Just names of companies/countries. Just drop the 3 movies.\n",
    "# release_date: should probably just drop the samples with missing values, I can't think of a way to fill in the values.\n",
    "# revenue, spoken languages, title, video, votes all have 6 NaNs. I'd wager they're the same movies, we should drop the samples.\n",
    "# runtime: We can probably just fill in with a mean/median.\n",
    "# status: We should do some sort of hot-encoding here, then the NaNs will just be columns of 0. Will print uniques to check.\n",
    "# tagline: Until we actually analyze the taglines, I think we should just replace with a tag_presence one-hot variable"
   ]
  },
  {
   "cell_type": "code",
   "execution_count": 552,
   "metadata": {},
   "outputs": [
    {
     "name": "stdout",
     "output_type": "stream",
     "text": [
      "['Released' nan 'Rumored' 'Post Production' 'In Production' 'Planned'\n",
      " 'Canceled']\n"
     ]
    }
   ],
   "source": [
    "print(metadata_df.status.unique())\n",
    "# 6 one-hot variables don't seem too bad. It's an option."
   ]
  },
  {
   "cell_type": "code",
   "execution_count": 553,
   "metadata": {
    "collapsed": true
   },
   "outputs": [],
   "source": [
    "#for df, name in zip(dataframes, df_names):\n",
    "#    print(\"\\n\" + \"Dataframe: \" + name + \"\\n\")\n",
    "#    print(df.describe())"
   ]
  },
  {
   "cell_type": "code",
   "execution_count": 554,
   "metadata": {},
   "outputs": [
    {
     "data": {
      "text/plain": [
       "'\\nfor df, name in zip(dataframes, df_names):\\n    plt.figure()\\n    #print(\"\\n\" + \"Dataframe: \" + name + \"\\n\")\\n    df.hist(figsize=(8,8))\\n'"
      ]
     },
     "execution_count": 554,
     "metadata": {},
     "output_type": "execute_result"
    }
   ],
   "source": [
    "\"\"\"\n",
    "for df, name in zip(dataframes, df_names):\n",
    "    plt.figure()\n",
    "    #print(\"\\n\" + \"Dataframe: \" + name + \"\\n\")\n",
    "    df.hist(figsize=(8,8))\n",
    "\"\"\""
   ]
  },
  {
   "cell_type": "code",
   "execution_count": 555,
   "metadata": {},
   "outputs": [
    {
     "data": {
      "image/png": "[encoded data removed]",
      "text/plain": [
       "<matplotlib.figure.Figure at 0x1b5e1392e80>"
      ]
     },
     "metadata": {},
     "output_type": "display_data"
    }
   ],
   "source": [
    "# A quick heatmap of movie_metadata. It seems revenue and the number of votes are correlated.\n",
    "import seaborn as sns\n",
    "corr = metadata_df.corr()\n",
    "mask = np.zeros_like(corr)\n",
    "mask[np.triu_indices_from(mask)] = True\n",
    "plt.figure(figsize=(8, 8))\n",
    "_ = sns.heatmap(corr, vmax=1, vmin=-1, mask=mask, square=True, annot=False, linewidths=0.2, center=0)"
   ]
  },
  {
   "cell_type": "code",
   "execution_count": 556,
   "metadata": {},
   "outputs": [
    {
     "name": "stdout",
     "output_type": "stream",
     "text": [
      "[   862   8844  15602 ...,  67758 227506 461257]\n",
      "int64\n"
     ]
    }
   ],
   "source": [
    "print(metadata_df.id.unique())\n",
    "print(metadata_df.id.dtype)\n",
    "# If dtype is not int64, go to the metadata CSV and delete all entries where 'adult' is not false.\n",
    "# I also deleted the adult column afterwards."
   ]
  },
  {
   "cell_type": "code",
   "execution_count": 557,
   "metadata": {},
   "outputs": [],
   "source": [
    "# These three files seem to be the ones we want. Indexed on ID, we could probably combine them now.\n",
    "dataframes = (keywords_df, credits_df, metadata_df)\n",
    "# Pandas DataFrames don't have name attributes.\n",
    "df_names = (\"keywords\", \"credits\", \"movies_metadata\")\n",
    "keywords_df = keywords_df.set_index('id')\n",
    "credits_df = credits_df.set_index('id')\n",
    "metadata_df = metadata_df.set_index('id')\n",
    "None"
   ]
  },
  {
   "cell_type": "code",
   "execution_count": 558,
   "metadata": {},
   "outputs": [],
   "source": [
    "temp = keywords_df.join(credits_df)\n",
    "movie_df = metadata_df.join(temp)"
   ]
  },
  {
   "cell_type": "code",
   "execution_count": 559,
   "metadata": {},
   "outputs": [
    {
     "data": {
      "text/html": [
       "<div>\n",
       "<style>\n",
       "    .dataframe thead tr:only-child th {\n",
       "        text-align: right;\n",
       "    }\n",
       "\n",
       "    .dataframe thead th {\n",
       "        text-align: left;\n",
       "    }\n",
       "\n",
       "    .dataframe tbody tr th {\n",
       "        vertical-align: top;\n",
       "    }\n",
       "</style>\n",
       "<table border=\"1\" class=\"dataframe\">\n",
       "  <thead>\n",
       "    <tr style=\"text-align: right;\">\n",
       "      <th></th>\n",
       "      <th>belongs_to_collection</th>\n",
       "      <th>budget</th>\n",
       "      <th>genres</th>\n",
       "      <th>homepage</th>\n",
       "      <th>imdb_id</th>\n",
       "      <th>original_language</th>\n",
       "      <th>original_title</th>\n",
       "      <th>overview</th>\n",
       "      <th>poster_path</th>\n",
       "      <th>production_companies</th>\n",
       "      <th>...</th>\n",
       "      <th>spoken_languages</th>\n",
       "      <th>status</th>\n",
       "      <th>tagline</th>\n",
       "      <th>title</th>\n",
       "      <th>video</th>\n",
       "      <th>vote_average</th>\n",
       "      <th>vote_count</th>\n",
       "      <th>keywords</th>\n",
       "      <th>cast</th>\n",
       "      <th>crew</th>\n",
       "    </tr>\n",
       "    <tr>\n",
       "      <th>id</th>\n",
       "      <th></th>\n",
       "      <th></th>\n",
       "      <th></th>\n",
       "      <th></th>\n",
       "      <th></th>\n",
       "      <th></th>\n",
       "      <th></th>\n",
       "      <th></th>\n",
       "      <th></th>\n",
       "      <th></th>\n",
       "      <th></th>\n",
       "      <th></th>\n",
       "      <th></th>\n",
       "      <th></th>\n",
       "      <th></th>\n",
       "      <th></th>\n",
       "      <th></th>\n",
       "      <th></th>\n",
       "      <th></th>\n",
       "      <th></th>\n",
       "      <th></th>\n",
       "    </tr>\n",
       "  </thead>\n",
       "  <tbody>\n",
       "    <tr>\n",
       "      <th>2</th>\n",
       "      <td>NaN</td>\n",
       "      <td>0</td>\n",
       "      <td>[{'id': 18, 'name': 'Drama'}, {'id': 80, 'name...</td>\n",
       "      <td>NaN</td>\n",
       "      <td>tt0094675</td>\n",
       "      <td>fi</td>\n",
       "      <td>Ariel</td>\n",
       "      <td>Taisto Kasurinen is a Finnish coal miner whose...</td>\n",
       "      <td>/gZCJZOn4l0Zj5hAxsMbxoS6CL0u.jpg</td>\n",
       "      <td>[{'name': 'Villealfa Filmproduction Oy', 'id':...</td>\n",
       "      <td>...</td>\n",
       "      <td>[{'iso_639_1': 'fi', 'name': 'suomi'}, {'iso_6...</td>\n",
       "      <td>Released</td>\n",
       "      <td>NaN</td>\n",
       "      <td>Ariel</td>\n",
       "      <td>False</td>\n",
       "      <td>7.1</td>\n",
       "      <td>44.0</td>\n",
       "      <td>[{'id': 240, 'name': 'underdog'}, {'id': 378, ...</td>\n",
       "      <td>[{'cast_id': 3, 'character': 'Taisto Olavi Kas...</td>\n",
       "      <td>[{'credit_id': '52fe420dc3a36847f800001f', 'de...</td>\n",
       "    </tr>\n",
       "    <tr>\n",
       "      <th>3</th>\n",
       "      <td>NaN</td>\n",
       "      <td>0</td>\n",
       "      <td>[{'id': 18, 'name': 'Drama'}, {'id': 35, 'name...</td>\n",
       "      <td>NaN</td>\n",
       "      <td>tt0092149</td>\n",
       "      <td>fi</td>\n",
       "      <td>Varjoja paratiisissa</td>\n",
       "      <td>An episode in the life of Nikander, a garbage ...</td>\n",
       "      <td>/7ad4iku8cYBuB08g9yAU7tHJik5.jpg</td>\n",
       "      <td>[{'name': 'Villealfa Filmproduction Oy', 'id':...</td>\n",
       "      <td>...</td>\n",
       "      <td>[{'iso_639_1': 'en', 'name': 'English'}, {'iso...</td>\n",
       "      <td>Released</td>\n",
       "      <td>NaN</td>\n",
       "      <td>Shadows in Paradise</td>\n",
       "      <td>False</td>\n",
       "      <td>7.1</td>\n",
       "      <td>35.0</td>\n",
       "      <td>[{'id': 1361, 'name': 'salesclerk'}, {'id': 17...</td>\n",
       "      <td>[{'cast_id': 5, 'character': 'Nikander', 'cred...</td>\n",
       "      <td>[{'credit_id': '52fe420dc3a36847f8000077', 'de...</td>\n",
       "    </tr>\n",
       "  </tbody>\n",
       "</table>\n",
       "<p>2 rows × 24 columns</p>\n",
       "</div>"
      ],
      "text/plain": [
       "   belongs_to_collection  budget  \\\n",
       "id                                 \n",
       "2                    NaN       0   \n",
       "3                    NaN       0   \n",
       "\n",
       "                                               genres homepage    imdb_id  \\\n",
       "id                                                                          \n",
       "2   [{'id': 18, 'name': 'Drama'}, {'id': 80, 'name...      NaN  tt0094675   \n",
       "3   [{'id': 18, 'name': 'Drama'}, {'id': 35, 'name...      NaN  tt0092149   \n",
       "\n",
       "   original_language        original_title  \\\n",
       "id                                           \n",
       "2                 fi                 Ariel   \n",
       "3                 fi  Varjoja paratiisissa   \n",
       "\n",
       "                                             overview  \\\n",
       "id                                                      \n",
       "2   Taisto Kasurinen is a Finnish coal miner whose...   \n",
       "3   An episode in the life of Nikander, a garbage ...   \n",
       "\n",
       "                         poster_path  \\\n",
       "id                                     \n",
       "2   /gZCJZOn4l0Zj5hAxsMbxoS6CL0u.jpg   \n",
       "3   /7ad4iku8cYBuB08g9yAU7tHJik5.jpg   \n",
       "\n",
       "                                 production_companies  \\\n",
       "id                                                      \n",
       "2   [{'name': 'Villealfa Filmproduction Oy', 'id':...   \n",
       "3   [{'name': 'Villealfa Filmproduction Oy', 'id':...   \n",
       "\n",
       "                          ...                          \\\n",
       "id                        ...                           \n",
       "2                         ...                           \n",
       "3                         ...                           \n",
       "\n",
       "                                     spoken_languages    status  tagline  \\\n",
       "id                                                                         \n",
       "2   [{'iso_639_1': 'fi', 'name': 'suomi'}, {'iso_6...  Released      NaN   \n",
       "3   [{'iso_639_1': 'en', 'name': 'English'}, {'iso...  Released      NaN   \n",
       "\n",
       "                  title  video vote_average vote_count  \\\n",
       "id                                                       \n",
       "2                 Ariel  False          7.1       44.0   \n",
       "3   Shadows in Paradise  False          7.1       35.0   \n",
       "\n",
       "                                             keywords  \\\n",
       "id                                                      \n",
       "2   [{'id': 240, 'name': 'underdog'}, {'id': 378, ...   \n",
       "3   [{'id': 1361, 'name': 'salesclerk'}, {'id': 17...   \n",
       "\n",
       "                                                 cast  \\\n",
       "id                                                      \n",
       "2   [{'cast_id': 3, 'character': 'Taisto Olavi Kas...   \n",
       "3   [{'cast_id': 5, 'character': 'Nikander', 'cred...   \n",
       "\n",
       "                                                 crew  \n",
       "id                                                     \n",
       "2   [{'credit_id': '52fe420dc3a36847f800001f', 'de...  \n",
       "3   [{'credit_id': '52fe420dc3a36847f8000077', 'de...  \n",
       "\n",
       "[2 rows x 24 columns]"
      ]
     },
     "execution_count": 559,
     "metadata": {},
     "output_type": "execute_result"
    }
   ],
   "source": [
    "movie_df.head(2)"
   ]
  },
  {
   "cell_type": "code",
   "execution_count": 561,
   "metadata": {},
   "outputs": [
    {
     "data": {
      "text/plain": [
       "belongs_to_collection    {'id': 10194, 'name': 'Toy Story Collection', ...\n",
       "budget                                                            30000000\n",
       "genres                   [{'id': 16, 'name': 'Animation'}, {'id': 35, '...\n",
       "homepage                              http://toystory.disney.com/toy-story\n",
       "imdb_id                                                          tt0114709\n",
       "original_language                                                       en\n",
       "original_title                                                   Toy Story\n",
       "overview                 Led by Woody, Andy's toys live happily in his ...\n",
       "poster_path                               /rhIRbceoE9lR4veEXuwCC2wARtG.jpg\n",
       "production_companies        [{'name': 'Pixar Animation Studios', 'id': 3}]\n",
       "production_countries     [{'iso_3166_1': 'US', 'name': 'United States o...\n",
       "release_date                                                    10/30/1995\n",
       "revenue                                                        3.73554e+08\n",
       "runtime                                                                 81\n",
       "spoken_languages                  [{'iso_639_1': 'en', 'name': 'English'}]\n",
       "status                                                            Released\n",
       "tagline                                                                NaN\n",
       "title                                                            Toy Story\n",
       "video                                                                False\n",
       "vote_average                                                           7.7\n",
       "vote_count                                                            5415\n",
       "keywords                 [{'id': 931, 'name': 'jealousy'}, {'id': 4290,...\n",
       "cast                     [{'cast_id': 14, 'character': 'Woody (voice)',...\n",
       "crew                     [{'credit_id': '52fe4284c3a36847f8024f49', 'de...\n",
       "Name: 862, dtype: object"
      ]
     },
     "execution_count": 561,
     "metadata": {},
     "output_type": "execute_result"
    }
   ],
   "source": [
    "movie_df.loc[862]"
   ]
  },
  {
   "cell_type": "code",
   "execution_count": null,
   "metadata": {
    "collapsed": true
   },
   "outputs": [],
   "source": []
  }
 ],
 "metadata": {
  "kernelspec": {
   "display_name": "Python 3",
   "language": "python",
   "name": "python3"
  },
  "language_info": {
   "codemirror_mode": {
    "name": "ipython",
    "version": 3
   },
   "file_extension": ".py",
   "mimetype": "text/x-python",
   "name": "python",
   "nbconvert_exporter": "python",
   "pygments_lexer": "ipython3",
   "version": "3.6.3"
  }
 },
 "nbformat": 4,
 "nbformat_minor": 2
}
