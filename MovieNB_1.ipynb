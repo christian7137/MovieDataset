{
 "cells": [
  {
   "cell_type": "markdown",
   "metadata": {},
   "source": [
    "## Temp"
   ]
  },
  {
   "cell_type": "code",
   "execution_count": 260,
   "metadata": {
    "collapsed": true
   },
   "outputs": [],
   "source": [
    "# General imports here.\n",
    "import pandas as pd\n",
    "import numpy as np\n",
    "import sklearn as sk\n",
    "import math\n",
    "import matplotlib.pyplot as plt\n",
    "%matplotlib inline"
   ]
  },
  {
   "cell_type": "code",
   "execution_count": 261,
   "metadata": {},
   "outputs": [],
   "source": [
    "# Read the csv files and index appropriately.\n",
    "ratings_small_df = pd.read_csv('./data/ratings_small.csv')\n",
    "ratings_df = pd.read_csv('./data/ratings.csv')\n",
    "links_small_df = pd.read_csv('./data/links_small.csv')\n",
    "links_df = pd.read_csv('./data/links.csv')\n",
    "keywords_df = pd.read_csv('./data/keywords.csv')\n",
    "credits_df = pd.read_csv('./data/credits.csv')\n",
    "metadata_df = pd.read_csv('./data/movies_metadata.csv')\n",
    "# Reading the movies_metadata.csv file throws a DtypeWarning.\n",
    "# It's the popularity feature. I deleted it."
   ]
  },
  {
   "cell_type": "code",
   "execution_count": 262,
   "metadata": {
    "collapsed": true
   },
   "outputs": [],
   "source": [
    "dataframes = (ratings_small_df, ratings_df, links_small_df, links_df, keywords_df, credits_df, metadata_df)\n",
    "# Pandas DataFrames don't have name attributes.\n",
    "df_names = (\"ratings_small\", \"ratings\", \"links_small\", \"links\", \"keywords\", \"credits\", \"movies_metadata\")"
   ]
  },
  {
   "cell_type": "code",
   "execution_count": 263,
   "metadata": {},
   "outputs": [],
   "source": [
    "# Print the names of all the features in each file.\n",
    "#for df, name in zip(dataframes, df_names):\n",
    "#    print(\"\\n\" + \"Dataframe: \" + name + \"\\nNaN Values:\")\n",
    "#    print(df.isnull().sum())"
   ]
  },
  {
   "cell_type": "code",
   "execution_count": 264,
   "metadata": {},
   "outputs": [
    {
     "name": "stdout",
     "output_type": "stream",
     "text": [
      "[    862.    8844.   15602. ...,  391698.  137608.  410803.]\n"
     ]
    }
   ],
   "source": [
    "# links_small has some NaN values. Print the unique values to see what we're expecting. \n",
    "print(links_small_df.tmdbId.unique())\n",
    "# It's in the tmdbId column, which seem to be ID numbers for some movies.\n",
    "# We probably won't use links in actual analysis, so I'm not going to worry about it."
   ]
  },
  {
   "cell_type": "code",
   "execution_count": 265,
   "metadata": {},
   "outputs": [
    {
     "data": {
      "text/html": [
       "<div>\n",
       "<style>\n",
       "    .dataframe thead tr:only-child th {\n",
       "        text-align: right;\n",
       "    }\n",
       "\n",
       "    .dataframe thead th {\n",
       "        text-align: left;\n",
       "    }\n",
       "\n",
       "    .dataframe tbody tr th {\n",
       "        vertical-align: top;\n",
       "    }\n",
       "</style>\n",
       "<table border=\"1\" class=\"dataframe\">\n",
       "  <thead>\n",
       "    <tr style=\"text-align: right;\">\n",
       "      <th></th>\n",
       "      <th>adult</th>\n",
       "      <th>belongs_to_collection</th>\n",
       "      <th>budget</th>\n",
       "      <th>genres</th>\n",
       "      <th>homepage</th>\n",
       "      <th>id</th>\n",
       "      <th>imdb_id</th>\n",
       "      <th>original_language</th>\n",
       "      <th>original_title</th>\n",
       "      <th>overview</th>\n",
       "      <th>...</th>\n",
       "      <th>release_date</th>\n",
       "      <th>revenue</th>\n",
       "      <th>runtime</th>\n",
       "      <th>spoken_languages</th>\n",
       "      <th>status</th>\n",
       "      <th>tagline</th>\n",
       "      <th>title</th>\n",
       "      <th>video</th>\n",
       "      <th>vote_average</th>\n",
       "      <th>vote_count</th>\n",
       "    </tr>\n",
       "  </thead>\n",
       "  <tbody>\n",
       "    <tr>\n",
       "      <th>0</th>\n",
       "      <td>FALSE</td>\n",
       "      <td>{'id': 10194, 'name': 'Toy Story Collection', ...</td>\n",
       "      <td>30000000</td>\n",
       "      <td>[{'id': 16, 'name': 'Animation'}, {'id': 35, '...</td>\n",
       "      <td>http://toystory.disney.com/toy-story</td>\n",
       "      <td>862</td>\n",
       "      <td>tt0114709</td>\n",
       "      <td>en</td>\n",
       "      <td>Toy Story</td>\n",
       "      <td>Led by Woody, Andy's toys live happily in his ...</td>\n",
       "      <td>...</td>\n",
       "      <td>10/30/1995</td>\n",
       "      <td>373554033.0</td>\n",
       "      <td>81.0</td>\n",
       "      <td>[{'iso_639_1': 'en', 'name': 'English'}]</td>\n",
       "      <td>Released</td>\n",
       "      <td>NaN</td>\n",
       "      <td>Toy Story</td>\n",
       "      <td>False</td>\n",
       "      <td>7.7</td>\n",
       "      <td>5415.0</td>\n",
       "    </tr>\n",
       "    <tr>\n",
       "      <th>1</th>\n",
       "      <td>FALSE</td>\n",
       "      <td>NaN</td>\n",
       "      <td>65000000</td>\n",
       "      <td>[{'id': 12, 'name': 'Adventure'}, {'id': 14, '...</td>\n",
       "      <td>NaN</td>\n",
       "      <td>8844</td>\n",
       "      <td>tt0113497</td>\n",
       "      <td>en</td>\n",
       "      <td>Jumanji</td>\n",
       "      <td>When siblings Judy and Peter discover an encha...</td>\n",
       "      <td>...</td>\n",
       "      <td>12/15/1995</td>\n",
       "      <td>262797249.0</td>\n",
       "      <td>104.0</td>\n",
       "      <td>[{'iso_639_1': 'en', 'name': 'English'}, {'iso...</td>\n",
       "      <td>Released</td>\n",
       "      <td>Roll the dice and unleash the excitement!</td>\n",
       "      <td>Jumanji</td>\n",
       "      <td>False</td>\n",
       "      <td>6.9</td>\n",
       "      <td>2413.0</td>\n",
       "    </tr>\n",
       "  </tbody>\n",
       "</table>\n",
       "<p>2 rows × 23 columns</p>\n",
       "</div>"
      ],
      "text/plain": [
       "   adult                              belongs_to_collection    budget  \\\n",
       "0  FALSE  {'id': 10194, 'name': 'Toy Story Collection', ...  30000000   \n",
       "1  FALSE                                                NaN  65000000   \n",
       "\n",
       "                                              genres  \\\n",
       "0  [{'id': 16, 'name': 'Animation'}, {'id': 35, '...   \n",
       "1  [{'id': 12, 'name': 'Adventure'}, {'id': 14, '...   \n",
       "\n",
       "                               homepage    id    imdb_id original_language  \\\n",
       "0  http://toystory.disney.com/toy-story   862  tt0114709                en   \n",
       "1                                   NaN  8844  tt0113497                en   \n",
       "\n",
       "  original_title                                           overview  \\\n",
       "0      Toy Story  Led by Woody, Andy's toys live happily in his ...   \n",
       "1        Jumanji  When siblings Judy and Peter discover an encha...   \n",
       "\n",
       "     ...     release_date      revenue runtime  \\\n",
       "0    ...       10/30/1995  373554033.0    81.0   \n",
       "1    ...       12/15/1995  262797249.0   104.0   \n",
       "\n",
       "                                    spoken_languages    status  \\\n",
       "0           [{'iso_639_1': 'en', 'name': 'English'}]  Released   \n",
       "1  [{'iso_639_1': 'en', 'name': 'English'}, {'iso...  Released   \n",
       "\n",
       "                                     tagline      title  video vote_average  \\\n",
       "0                                        NaN  Toy Story  False          7.7   \n",
       "1  Roll the dice and unleash the excitement!    Jumanji  False          6.9   \n",
       "\n",
       "  vote_count  \n",
       "0     5415.0  \n",
       "1     2413.0  \n",
       "\n",
       "[2 rows x 23 columns]"
      ]
     },
     "execution_count": 265,
     "metadata": {},
     "output_type": "execute_result"
    }
   ],
   "source": [
    "# Lots of NaNs in movie_metadata, just print out the first couple of entries to see what's going on.\n",
    "metadata_df.head(2)\n",
    "# belongs_to_collection seems fine, that's not simple data and is probably just Python being confused about what to expect.\n",
    "# homepage throws NaN when there's not a homepage it seems. Probably want to do a one-hot replacement here.\n",
    "# imdb_id is missing 17 IDs, we should probably just drop these movies.\n",
    "# original_language: 11, just drop them.\n",
    "# overview:\n",
    "# popularity: 5, just drop them.\n",
    "# poster_path:\n",
    "# production (general): Just names of companies/countries. Just drop the 3 movies.\n",
    "# release_date: should probably just drop the samples with missing values, I can't think of a way to fill in the values.\n",
    "# revenue, spoken languages, title, video, votes all have 6 NaNs. I'd wager they're the same movies, we should drop the samples.\n",
    "# runtime: We can probably just fill in with a mean/median.\n",
    "# status: We should do some sort of hot-encoding here, then the NaNs will just be columns of 0. Will print uniques to check.\n",
    "# tagline: Until we actually analyze the taglines, I think we should just replace with a tag_presence one-hot variable"
   ]
  },
  {
   "cell_type": "code",
   "execution_count": 266,
   "metadata": {},
   "outputs": [
    {
     "name": "stdout",
     "output_type": "stream",
     "text": [
      "['Released' nan 'Rumored' 'Post Production' 'In Production' 'Planned'\n",
      " 'Canceled']\n"
     ]
    }
   ],
   "source": [
    "print(metadata_df.status.unique())\n",
    "# 6 one-hot variables don't seem too bad. It's an option."
   ]
  },
  {
   "cell_type": "code",
   "execution_count": 267,
   "metadata": {},
   "outputs": [],
   "source": [
    "#for df, name in zip(dataframes, df_names):\n",
    "#    print(\"\\n\" + \"Dataframe: \" + name + \"\\n\")\n",
    "#    print(df.describe())"
   ]
  },
  {
   "cell_type": "code",
   "execution_count": 268,
   "metadata": {},
   "outputs": [
    {
     "data": {
      "text/plain": [
       "'\\nfor df, name in zip(dataframes, df_names):\\n    plt.figure()\\n    #print(\"\\n\" + \"Dataframe: \" + name + \"\\n\")\\n    df.hist(figsize=(8,8))\\n'"
      ]
     },
     "execution_count": 268,
     "metadata": {},
     "output_type": "execute_result"
    }
   ],
   "source": [
    "\"\"\"\n",
    "for df, name in zip(dataframes, df_names):\n",
    "    plt.figure()\n",
    "    #print(\"\\n\" + \"Dataframe: \" + name + \"\\n\")\n",
    "    df.hist(figsize=(8,8))\n",
    "\"\"\""
   ]
  },
  {
   "cell_type": "code",
   "execution_count": 269,
   "metadata": {},
   "outputs": [
    {
     "data": {
      "image/png": "[encoded data removed]",
      "text/plain": [
       "<matplotlib.figure.Figure at 0x1b61ed486d8>"
      ]
     },
     "metadata": {},
     "output_type": "display_data"
    }
   ],
   "source": [
    "# A quick heatmap of movie_metadata. It seems revenue and the number of votes are correlated.\n",
    "import seaborn as sns\n",
    "corr = metadata_df.corr()\n",
    "mask = np.zeros_like(corr)\n",
    "mask[np.triu_indices_from(mask)] = True\n",
    "plt.figure(figsize=(8, 8))\n",
    "_ = sns.heatmap(corr, vmax=1, vmin=-1, mask=mask, square=True, annot=False, linewidths=0.2, center=0)"
   ]
  },
  {
   "cell_type": "code",
   "execution_count": 270,
   "metadata": {},
   "outputs": [],
   "source": [
    "# These three files seem to be the ones we want. Indexed on ID, we could probably combine them now.\n",
    "dataframes = (keywords_df, credits_df, metadata_df)\n",
    "# Pandas DataFrames don't have name attributes.\n",
    "df_names = (\"keywords\", \"credits\", \"movies_metadata\")\n",
    "keywords_df = keywords_df.set_index('id')\n",
    "credits_df = credits_df.set_index('id')\n",
    "metadata_df = metadata_df.set_index('id')\n",
    "None"
   ]
  },
  {
   "cell_type": "code",
   "execution_count": 280,
   "metadata": {},
   "outputs": [],
   "source": [
    "trial = keywords_df.join(credits_df)"
   ]
  },
  {
   "cell_type": "code",
   "execution_count": 281,
   "metadata": {},
   "outputs": [
    {
     "data": {
      "text/html": [
       "<div>\n",
       "<style>\n",
       "    .dataframe thead tr:only-child th {\n",
       "        text-align: right;\n",
       "    }\n",
       "\n",
       "    .dataframe thead th {\n",
       "        text-align: left;\n",
       "    }\n",
       "\n",
       "    .dataframe tbody tr th {\n",
       "        vertical-align: top;\n",
       "    }\n",
       "</style>\n",
       "<table border=\"1\" class=\"dataframe\">\n",
       "  <thead>\n",
       "    <tr style=\"text-align: right;\">\n",
       "      <th></th>\n",
       "      <th>keywords</th>\n",
       "      <th>cast</th>\n",
       "      <th>crew</th>\n",
       "    </tr>\n",
       "    <tr>\n",
       "      <th>id</th>\n",
       "      <th></th>\n",
       "      <th></th>\n",
       "      <th></th>\n",
       "    </tr>\n",
       "  </thead>\n",
       "  <tbody>\n",
       "    <tr>\n",
       "      <th>2</th>\n",
       "      <td>[{'id': 240, 'name': 'underdog'}, {'id': 378, ...</td>\n",
       "      <td>[{'cast_id': 3, 'character': 'Taisto Olavi Kas...</td>\n",
       "      <td>[{'credit_id': '52fe420dc3a36847f800001f', 'de...</td>\n",
       "    </tr>\n",
       "    <tr>\n",
       "      <th>3</th>\n",
       "      <td>[{'id': 1361, 'name': 'salesclerk'}, {'id': 17...</td>\n",
       "      <td>[{'cast_id': 5, 'character': 'Nikander', 'cred...</td>\n",
       "      <td>[{'credit_id': '52fe420dc3a36847f8000077', 'de...</td>\n",
       "    </tr>\n",
       "    <tr>\n",
       "      <th>5</th>\n",
       "      <td>[{'id': 612, 'name': 'hotel'}, {'id': 613, 'na...</td>\n",
       "      <td>[{'cast_id': 42, 'character': 'Ted the Bellhop...</td>\n",
       "      <td>[{'credit_id': '52fe420dc3a36847f800011b', 'de...</td>\n",
       "    </tr>\n",
       "    <tr>\n",
       "      <th>6</th>\n",
       "      <td>[{'id': 520, 'name': 'chicago'}, {'id': 2231, ...</td>\n",
       "      <td>[{'cast_id': 7, 'character': 'Frank Wyatt', 'c...</td>\n",
       "      <td>[{'credit_id': '52fe420dc3a36847f800023d', 'de...</td>\n",
       "    </tr>\n",
       "    <tr>\n",
       "      <th>11</th>\n",
       "      <td>[{'id': 803, 'name': 'android'}, {'id': 4270, ...</td>\n",
       "      <td>[{'cast_id': 3, 'character': 'Luke Skywalker',...</td>\n",
       "      <td>[{'credit_id': '52fe420dc3a36847f8000437', 'de...</td>\n",
       "    </tr>\n",
       "    <tr>\n",
       "      <th>12</th>\n",
       "      <td>[{'id': 494, 'name': 'father son relationship'...</td>\n",
       "      <td>[{'cast_id': 8, 'character': 'Marlin (voice)',...</td>\n",
       "      <td>[{'credit_id': '52fe420ec3a36847f80006b1', 'de...</td>\n",
       "    </tr>\n",
       "    <tr>\n",
       "      <th>13</th>\n",
       "      <td>[{'id': 422, 'name': 'vietnam veteran'}, {'id'...</td>\n",
       "      <td>[{'cast_id': 7, 'character': 'Forrest Gump', '...</td>\n",
       "      <td>[{'credit_id': '52fe420ec3a36847f800072d', 'de...</td>\n",
       "    </tr>\n",
       "    <tr>\n",
       "      <th>14</th>\n",
       "      <td>[{'id': 255, 'name': 'male nudity'}, {'id': 29...</td>\n",
       "      <td>[{'cast_id': 6, 'character': 'Lester Burnham',...</td>\n",
       "      <td>[{'credit_id': '52fe420ec3a36847f80007c5', 'de...</td>\n",
       "    </tr>\n",
       "    <tr>\n",
       "      <th>15</th>\n",
       "      <td>[{'id': 736, 'name': 'journalist'}, {'id': 918...</td>\n",
       "      <td>[{'cast_id': 5, 'character': 'Charles Foster K...</td>\n",
       "      <td>[{'credit_id': '52fe420ec3a36847f8000885', 'de...</td>\n",
       "    </tr>\n",
       "    <tr>\n",
       "      <th>16</th>\n",
       "      <td>[{'id': 30, 'name': 'individual'}, {'id': 246,...</td>\n",
       "      <td>[{'cast_id': 33, 'character': 'Selma Jezkova',...</td>\n",
       "      <td>[{'credit_id': '52fe420ec3a36847f8000981', 'de...</td>\n",
       "    </tr>\n",
       "  </tbody>\n",
       "</table>\n",
       "</div>"
      ],
      "text/plain": [
       "                                             keywords  \\\n",
       "id                                                      \n",
       "2   [{'id': 240, 'name': 'underdog'}, {'id': 378, ...   \n",
       "3   [{'id': 1361, 'name': 'salesclerk'}, {'id': 17...   \n",
       "5   [{'id': 612, 'name': 'hotel'}, {'id': 613, 'na...   \n",
       "6   [{'id': 520, 'name': 'chicago'}, {'id': 2231, ...   \n",
       "11  [{'id': 803, 'name': 'android'}, {'id': 4270, ...   \n",
       "12  [{'id': 494, 'name': 'father son relationship'...   \n",
       "13  [{'id': 422, 'name': 'vietnam veteran'}, {'id'...   \n",
       "14  [{'id': 255, 'name': 'male nudity'}, {'id': 29...   \n",
       "15  [{'id': 736, 'name': 'journalist'}, {'id': 918...   \n",
       "16  [{'id': 30, 'name': 'individual'}, {'id': 246,...   \n",
       "\n",
       "                                                 cast  \\\n",
       "id                                                      \n",
       "2   [{'cast_id': 3, 'character': 'Taisto Olavi Kas...   \n",
       "3   [{'cast_id': 5, 'character': 'Nikander', 'cred...   \n",
       "5   [{'cast_id': 42, 'character': 'Ted the Bellhop...   \n",
       "6   [{'cast_id': 7, 'character': 'Frank Wyatt', 'c...   \n",
       "11  [{'cast_id': 3, 'character': 'Luke Skywalker',...   \n",
       "12  [{'cast_id': 8, 'character': 'Marlin (voice)',...   \n",
       "13  [{'cast_id': 7, 'character': 'Forrest Gump', '...   \n",
       "14  [{'cast_id': 6, 'character': 'Lester Burnham',...   \n",
       "15  [{'cast_id': 5, 'character': 'Charles Foster K...   \n",
       "16  [{'cast_id': 33, 'character': 'Selma Jezkova',...   \n",
       "\n",
       "                                                 crew  \n",
       "id                                                     \n",
       "2   [{'credit_id': '52fe420dc3a36847f800001f', 'de...  \n",
       "3   [{'credit_id': '52fe420dc3a36847f8000077', 'de...  \n",
       "5   [{'credit_id': '52fe420dc3a36847f800011b', 'de...  \n",
       "6   [{'credit_id': '52fe420dc3a36847f800023d', 'de...  \n",
       "11  [{'credit_id': '52fe420dc3a36847f8000437', 'de...  \n",
       "12  [{'credit_id': '52fe420ec3a36847f80006b1', 'de...  \n",
       "13  [{'credit_id': '52fe420ec3a36847f800072d', 'de...  \n",
       "14  [{'credit_id': '52fe420ec3a36847f80007c5', 'de...  \n",
       "15  [{'credit_id': '52fe420ec3a36847f8000885', 'de...  \n",
       "16  [{'credit_id': '52fe420ec3a36847f8000981', 'de...  "
      ]
     },
     "execution_count": 281,
     "metadata": {},
     "output_type": "execute_result"
    }
   ],
   "source": [
    "trial.head(10)\n",
    "# Keywords match up with cast/crew"
   ]
  },
  {
   "cell_type": "code",
   "execution_count": 284,
   "metadata": {},
   "outputs": [],
   "source": [
    "# Things go bad here.\n",
    "test = metadata_df.join(trial)"
   ]
  },
  {
   "cell_type": "code",
   "execution_count": null,
   "metadata": {
    "collapsed": true
   },
   "outputs": [],
   "source": []
  }
 ],
 "metadata": {
  "kernelspec": {
   "display_name": "Python 3",
   "language": "python",
   "name": "python3"
  },
  "language_info": {
   "codemirror_mode": {
    "name": "ipython",
    "version": 3
   },
   "file_extension": ".py",
   "mimetype": "text/x-python",
   "name": "python",
   "nbconvert_exporter": "python",
   "pygments_lexer": "ipython3",
   "version": "3.6.3"
  }
 },
 "nbformat": 4,
 "nbformat_minor": 2
}
