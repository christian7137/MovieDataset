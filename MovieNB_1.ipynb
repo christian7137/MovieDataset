{
 "cells": [
  {
   "cell_type": "markdown",
   "metadata": {},
   "source": [
    "## Temp"
   ]
  },
  {
   "cell_type": "code",
   "execution_count": 4,
   "metadata": {},
   "outputs": [],
   "source": [
    "# General imports here.\n",
    "import pandas as pd\n",
    "import numpy as np\n",
    "import sklearn as sk\n",
    "import math\n",
    "import matplotlib.pyplot as plt\n",
    "%matplotlib inline"
   ]
  },
  {
   "cell_type": "code",
   "execution_count": 19,
   "metadata": {},
   "outputs": [
    {
     "name": "stderr",
     "output_type": "stream",
     "text": [
      "C:\\Users\\chris\\Anaconda3\\lib\\site-packages\\IPython\\core\\interactiveshell.py:2698: DtypeWarning: Columns (10) have mixed types. Specify dtype option on import or set low_memory=False.\n",
      "  interactivity=interactivity, compiler=compiler, result=result)\n"
     ]
    }
   ],
   "source": [
    "# Read the csv files and index appropriately.\n",
    "ratings_small_df = pd.read_csv('./data/ratings_small.csv')\n",
    "ratings_df = pd.read_csv('./data/ratings.csv')\n",
    "links_small_df = pd.read_csv('./data/links_small.csv')\n",
    "links_df = pd.read_csv('./data/links.csv')\n",
    "keywords_df = pd.read_csv('./data/keywords.csv')\n",
    "credits_df = pd.read_csv('./data/credits.csv')\n",
    "metadata_df = pd.read_csv('./data/movies_metadata.csv')\n",
    "# Reading the movies_metadata.csv file throws a DtypeWarning.\n",
    "# TODO: Make sure that doesn't matter."
   ]
  },
  {
   "cell_type": "code",
   "execution_count": 31,
   "metadata": {},
   "outputs": [],
   "source": [
    "dataframes = (ratings_small_df, ratings_df, links_small_df, links_df, keywords_df, credits_df, metadata_df)\n",
    "# Pandas DataFrames don't have name attributes.\n",
    "df_names = (\"ratings_small\", \"ratings\", \"links_small\", \"links\", \"keywords\", \"credits\", \"movies_metadata\")"
   ]
  },
  {
   "cell_type": "code",
   "execution_count": 33,
   "metadata": {},
   "outputs": [
    {
     "name": "stdout",
     "output_type": "stream",
     "text": [
      "\n",
      "Dataframe: ratings_small\n",
      "\n",
      "              userId        movieId         rating     timestamp\n",
      "count  100004.000000  100004.000000  100004.000000  1.000040e+05\n",
      "mean      347.011310   12548.664363       3.543608  1.129639e+09\n",
      "std       195.163838   26369.198969       1.058064  1.916858e+08\n",
      "min         1.000000       1.000000       0.500000  7.896520e+08\n",
      "25%       182.000000    1028.000000       3.000000  9.658478e+08\n",
      "50%       367.000000    2406.500000       4.000000  1.110422e+09\n",
      "75%       520.000000    5418.000000       4.000000  1.296192e+09\n",
      "max       671.000000  163949.000000       5.000000  1.476641e+09\n",
      "\n",
      "Dataframe: ratings\n",
      "\n",
      "             userId       movieId        rating     timestamp\n",
      "count  2.602429e+07  2.602429e+07  2.602429e+07  2.602429e+07\n",
      "mean   1.350371e+05  1.584911e+04  3.528090e+00  1.171258e+09\n",
      "std    7.817620e+04  3.108526e+04  1.065443e+00  2.052889e+08\n",
      "min    1.000000e+00  1.000000e+00  5.000000e-01  7.896520e+08\n",
      "25%    6.716400e+04  1.073000e+03  3.000000e+00  9.907545e+08\n",
      "50%    1.351630e+05  2.583000e+03  3.500000e+00  1.151716e+09\n",
      "75%    2.026930e+05  6.503000e+03  4.000000e+00  1.357578e+09\n",
      "max    2.708960e+05  1.762750e+05  5.000000e+00  1.501830e+09\n",
      "\n",
      "Dataframe: links_small\n",
      "\n",
      "             movieId        imdbId         tmdbId\n",
      "count    9125.000000  9.125000e+03    9112.000000\n",
      "mean    31123.291836  4.798244e+05   39104.545544\n",
      "std     40782.633604  7.431774e+05   62814.519801\n",
      "min         1.000000  4.170000e+02       2.000000\n",
      "25%      2850.000000  8.884600e+04    9451.750000\n",
      "50%      6290.000000  1.197780e+05   15852.000000\n",
      "75%     56274.000000  4.284410e+05   39160.500000\n",
      "max    164979.000000  5.794766e+06  416437.000000\n",
      "\n",
      "Dataframe: links\n",
      "\n",
      "             movieId        imdbId         tmdbId\n",
      "count   45843.000000  4.584300e+04   45624.000000\n",
      "mean    96578.775626  9.937080e+05  108661.382847\n",
      "std     57216.863469  1.361924e+06  112665.970830\n",
      "min         1.000000  1.000000e+00       2.000000\n",
      "25%     49202.500000  8.333050e+04   26502.750000\n",
      "50%    108799.000000  2.839910e+05   60178.000000\n",
      "75%    145270.500000  1.538311e+06  157849.500000\n",
      "max    176279.000000  7.158814e+06  469172.000000\n",
      "\n",
      "Dataframe: keywords\n",
      "\n",
      "                  id\n",
      "count   46419.000000\n",
      "mean   109769.951873\n",
      "std    113045.780256\n",
      "min         2.000000\n",
      "25%     26810.500000\n",
      "50%     61198.000000\n",
      "75%    159908.500000\n",
      "max    469172.000000\n",
      "\n",
      "Dataframe: credits\n",
      "\n",
      "                  id\n",
      "count   45476.000000\n",
      "mean   108345.997537\n",
      "std    112443.796536\n",
      "min         2.000000\n",
      "25%     26443.250000\n",
      "50%     60002.500000\n",
      "75%    157302.000000\n",
      "max    469172.000000\n",
      "\n",
      "Dataframe: movies_metadata\n",
      "\n",
      "            revenue       runtime  vote_average    vote_count\n",
      "count  4.546000e+04  45203.000000  45460.000000  45460.000000\n",
      "mean   1.120935e+07     94.128199      5.618207    109.897338\n",
      "std    6.433225e+07     38.407810      1.924216    491.310374\n",
      "min    0.000000e+00      0.000000      0.000000      0.000000\n",
      "25%    0.000000e+00     85.000000      5.000000      3.000000\n",
      "50%    0.000000e+00     95.000000      6.000000     10.000000\n",
      "75%    0.000000e+00    107.000000      6.800000     34.000000\n",
      "max    2.787965e+09   1256.000000     10.000000  14075.000000\n"
     ]
    }
   ],
   "source": [
    "for df, name in zip(dataframes, df_names):\n",
    "    print(\"\\n\" + \"Dataframe: \" + name + \"\\n\")\n",
    "    print(df.describe())"
   ]
  },
  {
   "cell_type": "code",
   "execution_count": null,
   "metadata": {
    "collapsed": true
   },
   "outputs": [],
   "source": []
  }
 ],
 "metadata": {
  "kernelspec": {
   "display_name": "Python 3",
   "language": "python",
   "name": "python3"
  },
  "language_info": {
   "codemirror_mode": {
    "name": "ipython",
    "version": 3
   },
   "file_extension": ".py",
   "mimetype": "text/x-python",
   "name": "python",
   "nbconvert_exporter": "python",
   "pygments_lexer": "ipython3",
   "version": "3.6.3"
  }
 },
 "nbformat": 4,
 "nbformat_minor": 2
}
