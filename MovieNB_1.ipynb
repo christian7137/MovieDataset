{
 "cells": [
  {
   "cell_type": "markdown",
   "metadata": {},
   "source": [
    "## Movie Data Set Notebook #1 -- General Preprocessing"
   ]
  },
  {
   "cell_type": "code",
   "execution_count": 20,
   "metadata": {
    "collapsed": true
   },
   "outputs": [],
   "source": [
    "# General imports here.\n",
    "import pandas as pd\n",
    "import numpy as np\n",
    "import sklearn as sk\n",
    "import math\n",
    "import ast\n",
    "import seaborn as sns\n",
    "import matplotlib.pyplot as plt\n",
    "%matplotlib inline"
   ]
  },
  {
   "cell_type": "code",
   "execution_count": 21,
   "metadata": {
    "collapsed": true
   },
   "outputs": [],
   "source": [
    "# Read the csv files and index appropriately.\n",
    "keywords_df = pd.read_csv('./data/keywords.csv')\n",
    "credits_df = pd.read_csv('./data/credits.csv')\n",
    "metadata_df = pd.read_csv('./data/movies_metadata.csv')"
   ]
  },
  {
   "cell_type": "code",
   "execution_count": 22,
   "metadata": {
    "collapsed": true
   },
   "outputs": [],
   "source": [
    "# These three files seem to be the ones we want. Indexed on ID, we could probably combine them now.\n",
    "keywords_df = keywords_df.set_index('id')\n",
    "credits_df = credits_df.set_index('id')\n",
    "metadata_df = metadata_df.set_index('id')\n",
    "None"
   ]
  },
  {
   "cell_type": "code",
   "execution_count": 23,
   "metadata": {
    "collapsed": true
   },
   "outputs": [],
   "source": [
    "# Join the useful data frames together\n",
    "temp = keywords_df.join(credits_df)\n",
    "movie_df = metadata_df.join(temp)"
   ]
  },
  {
   "cell_type": "code",
   "execution_count": 24,
   "metadata": {
    "collapsed": true
   },
   "outputs": [],
   "source": [
    "# Here I'm just doing some of the same stuff \"The Story of Film\" did on Kaggle.\n",
    "# This all makes sense, it's pretty standard.\n",
    "movie_df = movie_df.drop(['imdb_id'], axis=1)\n",
    "movie_df = movie_df.drop(['original_title'], axis=1)\n",
    "movie_df = movie_df.drop(['video'], axis=1)\n",
    "base_poster_url = 'http://image.tmdb.org/t/p/w185'\n",
    "#movie_df['poster_path'] = \"<img src='\" + base_poster_url + movie_df['poster_path'] + \"' style='height:100px;'>\"\n",
    "movie_df['poster_path'] = base_poster_url + movie_df['poster_path']"
   ]
  },
  {
   "cell_type": "code",
   "execution_count": 25,
   "metadata": {
    "collapsed": true
   },
   "outputs": [],
   "source": [
    "# Clean up from https://www.kaggle.com/hadasik/movies-analysis-visualization-newbie\n",
    "def get_values(data_str):\n",
    "    if isinstance(data_str, float):\n",
    "        pass\n",
    "    else:\n",
    "        values = []\n",
    "        data_str = ast.literal_eval(data_str)\n",
    "        if isinstance(data_str, list):\n",
    "            for k_v in data_str:\n",
    "                values.append(k_v['name'])\n",
    "            return values\n",
    "        else:\n",
    "            return None"
   ]
  },
  {
   "cell_type": "code",
   "execution_count": 26,
   "metadata": {
    "collapsed": true
   },
   "outputs": [],
   "source": [
    "movie_df[['genres']] = movie_df[['genres']].applymap(get_values)\n",
    "movie_df[['production_companies', 'production_countries']] = movie_df[['production_companies', 'production_countries']].applymap(get_values)\n",
    "movie_df[['spoken_languages', 'keywords']] = movie_df[['spoken_languages', 'keywords']].applymap(get_values)\n",
    "movie_df[['cast', 'crew']] = movie_df[['cast', 'crew']].applymap(get_values)\n",
    "# This takes a while to run.\n",
    "# Also, it gets rid of character data and position in the crew. We may want that information."
   ]
  },
  {
   "cell_type": "code",
   "execution_count": 27,
   "metadata": {
    "collapsed": true
   },
   "outputs": [],
   "source": [
    "# Make the Collection feature readable. The previously defined function doesn't seem to work for this feature.\n",
    "temp = movie_df[movie_df['belongs_to_collection'].notnull()]\n",
    "temp = temp['belongs_to_collection'].apply(ast.literal_eval).apply(lambda x: x['name'] if isinstance(x, dict) else np.nan)\n",
    "for index in temp.index:\n",
    "    movie_df.loc[index, 'belongs_to_collection'] = temp.loc[index]\n",
    "movie_df['belongs_to_collection'].fillna(0, inplace=True)"
   ]
  },
  {
   "cell_type": "code",
   "execution_count": 28,
   "metadata": {
    "collapsed": true
   },
   "outputs": [],
   "source": [
    "# I took care of some of the NaN values already.\n",
    "movie_df = movie_df[pd.notnull(movie_df['title'])]\n",
    "movie_df = movie_df[pd.notnull(movie_df['keywords'])]\n",
    "movie_df = movie_df[pd.notnull(movie_df['original_language'])]\n",
    "movie_df = movie_df[pd.notnull(movie_df['status'])]\n",
    "movie_df = movie_df[pd.notnull(movie_df['release_date'])]\n",
    "movie_df = movie_df[pd.notnull(movie_df['poster_path'])]\n",
    "movie_df = movie_df[pd.notnull(movie_df['overview'])]\n",
    "movie_df = movie_df[pd.notnull(movie_df['runtime'])]"
   ]
  },
  {
   "cell_type": "code",
   "execution_count": 29,
   "metadata": {
    "collapsed": true
   },
   "outputs": [],
   "source": [
    "# Make the homepage feature a binary variable since we don't care what the URL is.\n",
    "movie_df['homepage'].fillna(0, inplace=True)\n",
    "movie_df.loc[movie_df['homepage'] != 0, 'homepage'] = 1\n",
    "movie_df['homepage'] = movie_df['homepage'].astype(np.int64)"
   ]
  },
  {
   "cell_type": "code",
   "execution_count": 30,
   "metadata": {
    "collapsed": true
   },
   "outputs": [],
   "source": [
    "# Replace tagline NaNs\n",
    "movie_df['tagline'].fillna(0, inplace=True)\n",
    "# Drop status when not released.\n",
    "movie_df = movie_df.loc[movie_df['status'] == 'Released']\n",
    "movie_df = movie_df.drop(['status'], axis = 1)"
   ]
  },
  {
   "cell_type": "code",
   "execution_count": 32,
   "metadata": {},
   "outputs": [
    {
     "name": "stdout",
     "output_type": "stream",
     "text": [
      "(7502, 20)\n",
      "(5443, 20)\n"
     ]
    }
   ],
   "source": [
    "# Take care of budget, revenue\n",
    "print(movie_df.shape)\n",
    "movie_df = movie_df.loc[movie_df['revenue'] != 0]\n",
    "movie_df = movie_df.loc[movie_df['budget'] != 0]\n",
    "print(movie_df.shape)\n",
    "movie_df['revenue'] = movie_df['revenue'].apply(lambda x: x if x > 100 else x*1000000)\n",
    "movie_df['revenue'] = movie_df['revenue'].apply(lambda x: x if (x > 999) else x*1000)\n",
    "movie_df['budget'] = movie_df['budget'].apply(lambda x: x if x > 100 else x*1000000)\n",
    "movie_df['budget'] = movie_df['budget'].apply(lambda x: x if (x > 999) else x*1000)"
   ]
  },
  {
   "cell_type": "code",
   "execution_count": 33,
   "metadata": {},
   "outputs": [
    {
     "name": "stdout",
     "output_type": "stream",
     "text": [
      "belongs_to_collection    False\n",
      "budget                   False\n",
      "genres                   False\n",
      "homepage                 False\n",
      "original_language        False\n",
      "overview                 False\n",
      "poster_path              False\n",
      "production_companies     False\n",
      "production_countries     False\n",
      "release_date             False\n",
      "revenue                  False\n",
      "runtime                  False\n",
      "spoken_languages         False\n",
      "tagline                  False\n",
      "title                    False\n",
      "vote_average             False\n",
      "vote_count               False\n",
      "keywords                 False\n",
      "cast                     False\n",
      "crew                     False\n",
      "dtype: bool\n"
     ]
    }
   ],
   "source": [
    "# Check for NaNs. None, that's good.\n",
    "print(movie_df.isnull().any())"
   ]
  },
  {
   "cell_type": "code",
   "execution_count": 34,
   "metadata": {},
   "outputs": [
    {
     "data": {
      "text/html": [
       "<div>\n",
       "<style>\n",
       "    .dataframe thead tr:only-child th {\n",
       "        text-align: right;\n",
       "    }\n",
       "\n",
       "    .dataframe thead th {\n",
       "        text-align: left;\n",
       "    }\n",
       "\n",
       "    .dataframe tbody tr th {\n",
       "        vertical-align: top;\n",
       "    }\n",
       "</style>\n",
       "<table border=\"1\" class=\"dataframe\">\n",
       "  <thead>\n",
       "    <tr style=\"text-align: right;\">\n",
       "      <th>id</th>\n",
       "      <th>5</th>\n",
       "      <th>11</th>\n",
       "      <th>12</th>\n",
       "      <th>13</th>\n",
       "      <th>14</th>\n",
       "    </tr>\n",
       "  </thead>\n",
       "  <tbody>\n",
       "    <tr>\n",
       "      <th>belongs_to_collection</th>\n",
       "      <td>0</td>\n",
       "      <td>Star Wars Collection</td>\n",
       "      <td>Finding Nemo Collection</td>\n",
       "      <td>0</td>\n",
       "      <td>0</td>\n",
       "    </tr>\n",
       "    <tr>\n",
       "      <th>budget</th>\n",
       "      <td>4000000</td>\n",
       "      <td>11000000</td>\n",
       "      <td>94000000</td>\n",
       "      <td>55000000</td>\n",
       "      <td>15000000</td>\n",
       "    </tr>\n",
       "    <tr>\n",
       "      <th>genres</th>\n",
       "      <td>[Crime, Comedy]</td>\n",
       "      <td>[Adventure, Action, Science Fiction]</td>\n",
       "      <td>[Animation, Family]</td>\n",
       "      <td>[Comedy, Drama, Romance]</td>\n",
       "      <td>[Drama]</td>\n",
       "    </tr>\n",
       "    <tr>\n",
       "      <th>homepage</th>\n",
       "      <td>0</td>\n",
       "      <td>1</td>\n",
       "      <td>1</td>\n",
       "      <td>0</td>\n",
       "      <td>1</td>\n",
       "    </tr>\n",
       "    <tr>\n",
       "      <th>original_language</th>\n",
       "      <td>en</td>\n",
       "      <td>en</td>\n",
       "      <td>en</td>\n",
       "      <td>en</td>\n",
       "      <td>en</td>\n",
       "    </tr>\n",
       "    <tr>\n",
       "      <th>overview</th>\n",
       "      <td>It's Ted the Bellhop's first night on the job....</td>\n",
       "      <td>Princess Leia is captured and held hostage by ...</td>\n",
       "      <td>Nemo, an adventurous young clownfish, is unexp...</td>\n",
       "      <td>A man with a low IQ has accomplished great thi...</td>\n",
       "      <td>Lester Burnham, a depressed suburban father in...</td>\n",
       "    </tr>\n",
       "    <tr>\n",
       "      <th>poster_path</th>\n",
       "      <td>http://image.tmdb.org/t/p/w185/eQs5hh9rxrk1m4x...</td>\n",
       "      <td>http://image.tmdb.org/t/p/w185/btTdmkgIvOi0FFi...</td>\n",
       "      <td>http://image.tmdb.org/t/p/w185/syPWyeeqzTQIxjI...</td>\n",
       "      <td>http://image.tmdb.org/t/p/w185/yE5d3BUhE8hCnkM...</td>\n",
       "      <td>http://image.tmdb.org/t/p/w185/or1MP8BZIAjqWYx...</td>\n",
       "    </tr>\n",
       "    <tr>\n",
       "      <th>production_companies</th>\n",
       "      <td>[Miramax Films, A Band Apart]</td>\n",
       "      <td>[Lucasfilm, Twentieth Century Fox Film Corpora...</td>\n",
       "      <td>[Pixar Animation Studios]</td>\n",
       "      <td>[Paramount Pictures]</td>\n",
       "      <td>[DreamWorks SKG, Jinks/Cohen Company]</td>\n",
       "    </tr>\n",
       "    <tr>\n",
       "      <th>production_countries</th>\n",
       "      <td>[United States of America]</td>\n",
       "      <td>[United States of America]</td>\n",
       "      <td>[United States of America]</td>\n",
       "      <td>[United States of America]</td>\n",
       "      <td>[United States of America]</td>\n",
       "    </tr>\n",
       "    <tr>\n",
       "      <th>release_date</th>\n",
       "      <td>12/9/1995</td>\n",
       "      <td>5/25/1977</td>\n",
       "      <td>5/30/2003</td>\n",
       "      <td>7/6/1994</td>\n",
       "      <td>9/15/1999</td>\n",
       "    </tr>\n",
       "    <tr>\n",
       "      <th>revenue</th>\n",
       "      <td>4.3e+06</td>\n",
       "      <td>7.75398e+08</td>\n",
       "      <td>9.40336e+08</td>\n",
       "      <td>6.77945e+08</td>\n",
       "      <td>3.56297e+08</td>\n",
       "    </tr>\n",
       "    <tr>\n",
       "      <th>runtime</th>\n",
       "      <td>98</td>\n",
       "      <td>121</td>\n",
       "      <td>100</td>\n",
       "      <td>142</td>\n",
       "      <td>122</td>\n",
       "    </tr>\n",
       "    <tr>\n",
       "      <th>spoken_languages</th>\n",
       "      <td>[English]</td>\n",
       "      <td>[English]</td>\n",
       "      <td>[English]</td>\n",
       "      <td>[English]</td>\n",
       "      <td>[English]</td>\n",
       "    </tr>\n",
       "    <tr>\n",
       "      <th>tagline</th>\n",
       "      <td>Twelve outrageous guests. Four scandalous requ...</td>\n",
       "      <td>A long time ago in a galaxy far, far away...</td>\n",
       "      <td>There are 3.7 trillion fish in the ocean. They...</td>\n",
       "      <td>The world will never be the same, once you've ...</td>\n",
       "      <td>Look closer.</td>\n",
       "    </tr>\n",
       "    <tr>\n",
       "      <th>title</th>\n",
       "      <td>Four Rooms</td>\n",
       "      <td>Star Wars</td>\n",
       "      <td>Finding Nemo</td>\n",
       "      <td>Forrest Gump</td>\n",
       "      <td>American Beauty</td>\n",
       "    </tr>\n",
       "    <tr>\n",
       "      <th>vote_average</th>\n",
       "      <td>6.5</td>\n",
       "      <td>8.1</td>\n",
       "      <td>7.6</td>\n",
       "      <td>8.2</td>\n",
       "      <td>7.9</td>\n",
       "    </tr>\n",
       "    <tr>\n",
       "      <th>vote_count</th>\n",
       "      <td>539</td>\n",
       "      <td>6778</td>\n",
       "      <td>6292</td>\n",
       "      <td>8147</td>\n",
       "      <td>3438</td>\n",
       "    </tr>\n",
       "    <tr>\n",
       "      <th>keywords</th>\n",
       "      <td>[hotel, new year's eve, witch, bet, hotel room...</td>\n",
       "      <td>[android, galaxy, hermit, death star, lightsab...</td>\n",
       "      <td>[father son relationship, harbor, underwater, ...</td>\n",
       "      <td>[vietnam veteran, hippie, mentally disabled, r...</td>\n",
       "      <td>[male nudity, female nudity, adultery, parent ...</td>\n",
       "    </tr>\n",
       "    <tr>\n",
       "      <th>cast</th>\n",
       "      <td>[Tim Roth, Antonio Banderas, Jennifer Beals, M...</td>\n",
       "      <td>[Mark Hamill, Harrison Ford, Carrie Fisher, Pe...</td>\n",
       "      <td>[Albert Brooks, Ellen DeGeneres, Alexander Gou...</td>\n",
       "      <td>[Tom Hanks, Robin Wright, Gary Sinise, Mykelti...</td>\n",
       "      <td>[Kevin Spacey, Annette Bening, Thora Birch, We...</td>\n",
       "    </tr>\n",
       "    <tr>\n",
       "      <th>crew</th>\n",
       "      <td>[Combustible Edison, Gary Frutkoff, Lance Brow...</td>\n",
       "      <td>[George Lucas, George Lucas, George Lucas, Gar...</td>\n",
       "      <td>[Andrew Stanton, Andrew Stanton, Andrew Stanto...</td>\n",
       "      <td>[Robert Zemeckis, Wendy Finerman, Steve Tisch,...</td>\n",
       "      <td>[Sam Mendes, Alan Ball, Bruce Cohen, Dan Jinks...</td>\n",
       "    </tr>\n",
       "  </tbody>\n",
       "</table>\n",
       "</div>"
      ],
      "text/plain": [
       "id                                                                    5   \\\n",
       "belongs_to_collection                                                  0   \n",
       "budget                                                           4000000   \n",
       "genres                                                   [Crime, Comedy]   \n",
       "homepage                                                               0   \n",
       "original_language                                                     en   \n",
       "overview               It's Ted the Bellhop's first night on the job....   \n",
       "poster_path            http://image.tmdb.org/t/p/w185/eQs5hh9rxrk1m4x...   \n",
       "production_companies                       [Miramax Films, A Band Apart]   \n",
       "production_countries                          [United States of America]   \n",
       "release_date                                                   12/9/1995   \n",
       "revenue                                                          4.3e+06   \n",
       "runtime                                                               98   \n",
       "spoken_languages                                               [English]   \n",
       "tagline                Twelve outrageous guests. Four scandalous requ...   \n",
       "title                                                         Four Rooms   \n",
       "vote_average                                                         6.5   \n",
       "vote_count                                                           539   \n",
       "keywords               [hotel, new year's eve, witch, bet, hotel room...   \n",
       "cast                   [Tim Roth, Antonio Banderas, Jennifer Beals, M...   \n",
       "crew                   [Combustible Edison, Gary Frutkoff, Lance Brow...   \n",
       "\n",
       "id                                                                    11  \\\n",
       "belongs_to_collection                               Star Wars Collection   \n",
       "budget                                                          11000000   \n",
       "genres                              [Adventure, Action, Science Fiction]   \n",
       "homepage                                                               1   \n",
       "original_language                                                     en   \n",
       "overview               Princess Leia is captured and held hostage by ...   \n",
       "poster_path            http://image.tmdb.org/t/p/w185/btTdmkgIvOi0FFi...   \n",
       "production_companies   [Lucasfilm, Twentieth Century Fox Film Corpora...   \n",
       "production_countries                          [United States of America]   \n",
       "release_date                                                   5/25/1977   \n",
       "revenue                                                      7.75398e+08   \n",
       "runtime                                                              121   \n",
       "spoken_languages                                               [English]   \n",
       "tagline                     A long time ago in a galaxy far, far away...   \n",
       "title                                                          Star Wars   \n",
       "vote_average                                                         8.1   \n",
       "vote_count                                                          6778   \n",
       "keywords               [android, galaxy, hermit, death star, lightsab...   \n",
       "cast                   [Mark Hamill, Harrison Ford, Carrie Fisher, Pe...   \n",
       "crew                   [George Lucas, George Lucas, George Lucas, Gar...   \n",
       "\n",
       "id                                                                    12  \\\n",
       "belongs_to_collection                            Finding Nemo Collection   \n",
       "budget                                                          94000000   \n",
       "genres                                               [Animation, Family]   \n",
       "homepage                                                               1   \n",
       "original_language                                                     en   \n",
       "overview               Nemo, an adventurous young clownfish, is unexp...   \n",
       "poster_path            http://image.tmdb.org/t/p/w185/syPWyeeqzTQIxjI...   \n",
       "production_companies                           [Pixar Animation Studios]   \n",
       "production_countries                          [United States of America]   \n",
       "release_date                                                   5/30/2003   \n",
       "revenue                                                      9.40336e+08   \n",
       "runtime                                                              100   \n",
       "spoken_languages                                               [English]   \n",
       "tagline                There are 3.7 trillion fish in the ocean. They...   \n",
       "title                                                       Finding Nemo   \n",
       "vote_average                                                         7.6   \n",
       "vote_count                                                          6292   \n",
       "keywords               [father son relationship, harbor, underwater, ...   \n",
       "cast                   [Albert Brooks, Ellen DeGeneres, Alexander Gou...   \n",
       "crew                   [Andrew Stanton, Andrew Stanton, Andrew Stanto...   \n",
       "\n",
       "id                                                                    13  \\\n",
       "belongs_to_collection                                                  0   \n",
       "budget                                                          55000000   \n",
       "genres                                          [Comedy, Drama, Romance]   \n",
       "homepage                                                               0   \n",
       "original_language                                                     en   \n",
       "overview               A man with a low IQ has accomplished great thi...   \n",
       "poster_path            http://image.tmdb.org/t/p/w185/yE5d3BUhE8hCnkM...   \n",
       "production_companies                                [Paramount Pictures]   \n",
       "production_countries                          [United States of America]   \n",
       "release_date                                                    7/6/1994   \n",
       "revenue                                                      6.77945e+08   \n",
       "runtime                                                              142   \n",
       "spoken_languages                                               [English]   \n",
       "tagline                The world will never be the same, once you've ...   \n",
       "title                                                       Forrest Gump   \n",
       "vote_average                                                         8.2   \n",
       "vote_count                                                          8147   \n",
       "keywords               [vietnam veteran, hippie, mentally disabled, r...   \n",
       "cast                   [Tom Hanks, Robin Wright, Gary Sinise, Mykelti...   \n",
       "crew                   [Robert Zemeckis, Wendy Finerman, Steve Tisch,...   \n",
       "\n",
       "id                                                                    14  \n",
       "belongs_to_collection                                                  0  \n",
       "budget                                                          15000000  \n",
       "genres                                                           [Drama]  \n",
       "homepage                                                               1  \n",
       "original_language                                                     en  \n",
       "overview               Lester Burnham, a depressed suburban father in...  \n",
       "poster_path            http://image.tmdb.org/t/p/w185/or1MP8BZIAjqWYx...  \n",
       "production_companies               [DreamWorks SKG, Jinks/Cohen Company]  \n",
       "production_countries                          [United States of America]  \n",
       "release_date                                                   9/15/1999  \n",
       "revenue                                                      3.56297e+08  \n",
       "runtime                                                              122  \n",
       "spoken_languages                                               [English]  \n",
       "tagline                                                     Look closer.  \n",
       "title                                                    American Beauty  \n",
       "vote_average                                                         7.9  \n",
       "vote_count                                                          3438  \n",
       "keywords               [male nudity, female nudity, adultery, parent ...  \n",
       "cast                   [Kevin Spacey, Annette Bening, Thora Birch, We...  \n",
       "crew                   [Sam Mendes, Alan Ball, Bruce Cohen, Dan Jinks...  "
      ]
     },
     "execution_count": 34,
     "metadata": {},
     "output_type": "execute_result"
    }
   ],
   "source": [
    "# belongs_to_collection: Similar to tagline, we may just want a binary variable\n",
    "# tagline: Until we actually analyze the taglines, I think we should just replace with a tag_presence binary variable\n",
    "# revenue and budget are both missing a lot of data, we'll have to deal with that.\n",
    "movie_df.head().transpose()"
   ]
  },
  {
   "cell_type": "code",
   "execution_count": 35,
   "metadata": {},
   "outputs": [
    {
     "data": {
      "text/html": [
       "<div>\n",
       "<style>\n",
       "    .dataframe thead tr:only-child th {\n",
       "        text-align: right;\n",
       "    }\n",
       "\n",
       "    .dataframe thead th {\n",
       "        text-align: left;\n",
       "    }\n",
       "\n",
       "    .dataframe tbody tr th {\n",
       "        vertical-align: top;\n",
       "    }\n",
       "</style>\n",
       "<table border=\"1\" class=\"dataframe\">\n",
       "  <thead>\n",
       "    <tr style=\"text-align: right;\">\n",
       "      <th></th>\n",
       "      <th>budget</th>\n",
       "      <th>homepage</th>\n",
       "      <th>revenue</th>\n",
       "      <th>runtime</th>\n",
       "      <th>vote_average</th>\n",
       "      <th>vote_count</th>\n",
       "    </tr>\n",
       "  </thead>\n",
       "  <tbody>\n",
       "    <tr>\n",
       "      <th>count</th>\n",
       "      <td>5.443000e+03</td>\n",
       "      <td>5443.000000</td>\n",
       "      <td>5.443000e+03</td>\n",
       "      <td>5443.000000</td>\n",
       "      <td>5443.000000</td>\n",
       "      <td>5443.000000</td>\n",
       "    </tr>\n",
       "    <tr>\n",
       "      <th>mean</th>\n",
       "      <td>3.114843e+07</td>\n",
       "      <td>0.356237</td>\n",
       "      <td>9.026193e+07</td>\n",
       "      <td>109.981995</td>\n",
       "      <td>6.274904</td>\n",
       "      <td>729.087084</td>\n",
       "    </tr>\n",
       "    <tr>\n",
       "      <th>std</th>\n",
       "      <td>4.004329e+07</td>\n",
       "      <td>0.478931</td>\n",
       "      <td>1.658673e+08</td>\n",
       "      <td>21.594643</td>\n",
       "      <td>0.921708</td>\n",
       "      <td>1247.718513</td>\n",
       "    </tr>\n",
       "    <tr>\n",
       "      <th>min</th>\n",
       "      <td>2.500000e+03</td>\n",
       "      <td>0.000000</td>\n",
       "      <td>1.378000e+03</td>\n",
       "      <td>0.000000</td>\n",
       "      <td>0.000000</td>\n",
       "      <td>0.000000</td>\n",
       "    </tr>\n",
       "    <tr>\n",
       "      <th>25%</th>\n",
       "      <td>5.500000e+06</td>\n",
       "      <td>0.000000</td>\n",
       "      <td>7.315342e+06</td>\n",
       "      <td>95.000000</td>\n",
       "      <td>5.700000</td>\n",
       "      <td>77.000000</td>\n",
       "    </tr>\n",
       "    <tr>\n",
       "      <th>50%</th>\n",
       "      <td>1.700000e+07</td>\n",
       "      <td>0.000000</td>\n",
       "      <td>3.003939e+07</td>\n",
       "      <td>106.000000</td>\n",
       "      <td>6.300000</td>\n",
       "      <td>275.000000</td>\n",
       "    </tr>\n",
       "    <tr>\n",
       "      <th>75%</th>\n",
       "      <td>4.000000e+07</td>\n",
       "      <td>1.000000</td>\n",
       "      <td>9.898360e+07</td>\n",
       "      <td>120.000000</td>\n",
       "      <td>6.900000</td>\n",
       "      <td>794.500000</td>\n",
       "    </tr>\n",
       "    <tr>\n",
       "      <th>max</th>\n",
       "      <td>3.800000e+08</td>\n",
       "      <td>1.000000</td>\n",
       "      <td>2.787965e+09</td>\n",
       "      <td>338.000000</td>\n",
       "      <td>9.100000</td>\n",
       "      <td>14075.000000</td>\n",
       "    </tr>\n",
       "  </tbody>\n",
       "</table>\n",
       "</div>"
      ],
      "text/plain": [
       "             budget     homepage       revenue      runtime  vote_average  \\\n",
       "count  5.443000e+03  5443.000000  5.443000e+03  5443.000000   5443.000000   \n",
       "mean   3.114843e+07     0.356237  9.026193e+07   109.981995      6.274904   \n",
       "std    4.004329e+07     0.478931  1.658673e+08    21.594643      0.921708   \n",
       "min    2.500000e+03     0.000000  1.378000e+03     0.000000      0.000000   \n",
       "25%    5.500000e+06     0.000000  7.315342e+06    95.000000      5.700000   \n",
       "50%    1.700000e+07     0.000000  3.003939e+07   106.000000      6.300000   \n",
       "75%    4.000000e+07     1.000000  9.898360e+07   120.000000      6.900000   \n",
       "max    3.800000e+08     1.000000  2.787965e+09   338.000000      9.100000   \n",
       "\n",
       "         vote_count  \n",
       "count   5443.000000  \n",
       "mean     729.087084  \n",
       "std     1247.718513  \n",
       "min        0.000000  \n",
       "25%       77.000000  \n",
       "50%      275.000000  \n",
       "75%      794.500000  \n",
       "max    14075.000000  "
      ]
     },
     "execution_count": 35,
     "metadata": {},
     "output_type": "execute_result"
    }
   ],
   "source": [
    "movie_df.describe()"
   ]
  },
  {
   "cell_type": "code",
   "execution_count": 36,
   "metadata": {},
   "outputs": [
    {
     "data": {
      "image/png": "[encoded data removed]",
      "text/plain": [
       "<matplotlib.figure.Figure at 0x17cae437b70>"
      ]
     },
     "metadata": {},
     "output_type": "display_data"
    }
   ],
   "source": [
    "_ = movie_df.hist(figsize=(8,8))"
   ]
  },
  {
   "cell_type": "code",
   "execution_count": 37,
   "metadata": {},
   "outputs": [
    {
     "data": {
      "image/png": "[encoded data removed]",
      "text/plain": [
       "<matplotlib.figure.Figure at 0x17cae9feef0>"
      ]
     },
     "metadata": {},
     "output_type": "display_data"
    }
   ],
   "source": [
    "# A quick heatmap. It seems revenue and the number of votes are correlated.\n",
    "corr = movie_df.corr()\n",
    "mask = np.zeros_like(corr)\n",
    "mask[np.triu_indices_from(mask)] = True\n",
    "plt.figure(figsize=(8, 8))\n",
    "_ = sns.heatmap(corr, vmax=1, vmin=-1, mask=mask, square=True, annot=True, linewidths=0.2, center=0, cmap=\"YlGnBu\")"
   ]
  },
  {
   "cell_type": "code",
   "execution_count": 38,
   "metadata": {},
   "outputs": [
    {
     "name": "stdout",
     "output_type": "stream",
     "text": [
      "belongs_to_collection                                 Toy Story Collection\n",
      "budget                                                            30000000\n",
      "genres                                         [Animation, Comedy, Family]\n",
      "homepage                                                                 1\n",
      "original_language                                                       en\n",
      "overview                 Led by Woody, Andy's toys live happily in his ...\n",
      "poster_path              http://image.tmdb.org/t/p/w185/rhIRbceoE9lR4ve...\n",
      "production_companies                             [Pixar Animation Studios]\n",
      "production_countries                            [United States of America]\n",
      "release_date                                                    10/30/1995\n",
      "revenue                                                        3.73554e+08\n",
      "runtime                                                                 81\n",
      "spoken_languages                                                 [English]\n",
      "tagline                                                                  0\n",
      "title                                                            Toy Story\n",
      "vote_average                                                           7.7\n",
      "vote_count                                                            5415\n",
      "keywords                 [jealousy, toy, boy, friendship, friends, riva...\n",
      "cast                     [Tom Hanks, Tim Allen, Don Rickles, Jim Varney...\n",
      "crew                     [John Lasseter, Joss Whedon, Andrew Stanton, J...\n",
      "Name: 862, dtype: object\n"
     ]
    }
   ],
   "source": [
    "# Toy Story Entry Example, looking it up by ID number\n",
    "print(movie_df.loc[862])"
   ]
  },
  {
   "cell_type": "code",
   "execution_count": 39,
   "metadata": {},
   "outputs": [
    {
     "name": "stdout",
     "output_type": "stream",
     "text": [
      "http://image.tmdb.org/t/p/w185/rhIRbceoE9lR4veEXuwCC2wARtG.jpg\n"
     ]
    }
   ],
   "source": [
    "# You can't use the partially displayed link above.\n",
    "print(movie_df.loc[862, 'poster_path'])"
   ]
  },
  {
   "cell_type": "markdown",
   "metadata": {},
   "source": [
    "### Actors"
   ]
  },
  {
   "cell_type": "code",
   "execution_count": null,
   "metadata": {
    "collapsed": true
   },
   "outputs": [],
   "source": [
    "#actors_df = pd.read_csv('./data/actors.csv')\n",
    "#actors_df = actors_df.set_index('actors')\n",
    "\n",
    "# way to parse through all the movie lists of actors and crew to find average revenue for each\n",
    "\"\"\"crew_mem = []\n",
    "num_movies = []\n",
    "revenue_avg = []\n",
    "counter = 0\n",
    "for index, row in movie_df.iterrows():\n",
    "    crew = row['crew']\n",
    "    revenue = row['revenue']\n",
    "    if(counter%1000 == 0):\n",
    "        print(counter)\n",
    "    counter += 1\n",
    "    for person in crew:\n",
    "        try:\n",
    "            index = crew_mem.index(person)\n",
    "        except:\n",
    "            index = -1\n",
    "        if(index != -1):\n",
    "            temp = revenue_avg[index] * num_movies[index]\n",
    "            temp += revenue\n",
    "            num_movies[index] += 1\n",
    "            revenue_avg[index] = temp/num_movies[index]\n",
    "        else:\n",
    "            crew_mem.append(person)\n",
    "            num_movies.append(1)\n",
    "            revenue_avg.append(revenue)\"\"\"\n",
    "None"
   ]
  },
  {
   "cell_type": "code",
   "execution_count": null,
   "metadata": {},
   "outputs": [],
   "source": [
    "#actors_df = pd.read_csv('./data/actors.csv')\n",
    "#actors_df = actors_df.set_index('actors')\n",
    "x = []\n",
    "for i in range(0,actors_df.shape[0]):\n",
    "    x.append(i)\n",
    "rev = actors_df['average_revenue']\n",
    "mov = actors_df['number_of_movies']\n",
    "rev_sh = actors_df['average_revenue (shifted)']\n",
    "plt.plot(x,rev, 'ro')\n",
    "plt.title(\"Average Revenue for each Actor\")\n",
    "plt.show()"
   ]
  },
  {
   "cell_type": "code",
   "execution_count": null,
   "metadata": {},
   "outputs": [],
   "source": [
    "plt.plot(x,mov, 'ro')\n",
    "plt.title(\"Number of Movies per Actor\")\n",
    "plt.show()"
   ]
  },
  {
   "cell_type": "code",
   "execution_count": null,
   "metadata": {
    "scrolled": true
   },
   "outputs": [],
   "source": [
    "plt.plot(x,rev_sh, 'ro')\n",
    "plt.title(\"(Avg Revenue for each Actor) * Number of Movies\")\n",
    "plt.show()"
   ]
  },
  {
   "cell_type": "code",
   "execution_count": null,
   "metadata": {},
   "outputs": [],
   "source": [
    "actor = actors_df['average_revenue'].argmax()\n",
    "actor2 = actors_df['number_of_movies'].argmax()\n",
    "actor3 = actors_df['average_revenue (shifted)'].argmax()\n",
    "print (\"Largest Average Revenue:\")\n",
    "print(\"Actor: \" + actor + \"  Num_Movies: \" + str(actors_df.loc[actor,'number_of_movies']) + \"  Avg_Revenue: \" + str(actors_df.loc[actor,'average_revenue']) + \"\\n\")\n",
    "print (\"Most Movies:\")\n",
    "print(\"Actor: \" + actor2 + \"  Num_Movies: \" + str(actors_df.loc[actor2,'number_of_movies']) + \"  Avg_Revenue: \" + str(actors_df.loc[actor2,'average_revenue']) + \"\\n\")\n",
    "print (\"Largest Average Shifted Revenue:\")\n",
    "print(\"Actor: \" + actor3 + \"  Num_Movies: \" + str(actors_df.loc[actor3,'number_of_movies']) + \"  Avg_Revenue: \" + str(actors_df.loc[actor3,'average_revenue']) + \"\\n\")"
   ]
  },
  {
   "cell_type": "code",
   "execution_count": 51,
   "metadata": {
    "collapsed": true
   },
   "outputs": [],
   "source": [
    "def to_file(filename, crew, num_mov, avg_rev):\n",
    "    with open(filename, 'w') as f:\n",
    "        f.write('crew,number_of_movies,average_revenue\\n')\n",
    "        for cre, mov, rev in zip(crew, num_mov, avg_rev):\n",
    "            f.write('{},{},{}\\n'.format(cre, mov, rev))\n",
    "\n",
    "# Haven't tested this yet.\n",
    "def makeCSV(df, filename):\n",
    "    df.to_csv(('./data/' + filename), index = True, sep='\\t', encoding='utf-8')"
   ]
  },
  {
   "cell_type": "markdown",
   "metadata": {},
   "source": [
    "### Posters"
   ]
  },
  {
   "cell_type": "code",
   "execution_count": 40,
   "metadata": {
    "collapsed": true
   },
   "outputs": [],
   "source": [
    "from PIL import Image\n",
    "\n",
    "# Taken from https://zeevgilovitz.com/detecting-dominant-colours-in-python\n",
    "def compare(title, image, color_tuple):\n",
    "    #image.show(title=title)\n",
    "    image = Image.new(\"RGB\", (200, 200,), color_tuple)\n",
    "    return image\n",
    "\n",
    "def most_frequent_color(image):\n",
    "\n",
    "    w, h = image.size\n",
    "    pixels = image.getcolors(w * h)\n",
    "\n",
    "    most_frequent_pixel = pixels[0]\n",
    "\n",
    "    for count, color in pixels:\n",
    "        if count > most_frequent_pixel[0]:\n",
    "            most_frequent_pixel = (count, color)\n",
    "\n",
    "    #imshow(compare(\"Most Common\", image, most_frequent_pixel[1]))\n",
    "\n",
    "    return most_frequent_pixel"
   ]
  },
  {
   "cell_type": "code",
   "execution_count": 41,
   "metadata": {},
   "outputs": [
    {
     "data": {
      "text/plain": [
       "<matplotlib.image.AxesImage at 0x17caeca1390>"
      ]
     },
     "execution_count": 41,
     "metadata": {},
     "output_type": "execute_result"
    },
    {
     "data": {
      "image/png": "[encoded data removed]",
      "text/plain": [
       "<matplotlib.figure.Figure at 0x17caec35b38>"
      ]
     },
     "metadata": {},
     "output_type": "display_data"
    }
   ],
   "source": [
    "import requests\n",
    "from io import BytesIO\n",
    "from matplotlib.pyplot import imshow\n",
    "\n",
    "# Get Toy Story Poster Image\n",
    "response = requests.get(movie_df.loc[862]['poster_path'])\n",
    "img = Image.open(BytesIO(response.content))\n",
    "imshow(img)"
   ]
  },
  {
   "cell_type": "code",
   "execution_count": 42,
   "metadata": {
    "collapsed": true
   },
   "outputs": [],
   "source": [
    "import random\n",
    "import numpy\n",
    "\n",
    "class Cluster(object):\n",
    "\n",
    "    def __init__(self):\n",
    "        self.pixels = []\n",
    "        self.centroid = None\n",
    "\n",
    "    def addPoint(self, pixel):\n",
    "        self.pixels.append(pixel)\n",
    "\n",
    "    def setNewCentroid(self):\n",
    "\n",
    "        R = [colour[0] for colour in self.pixels]\n",
    "        G = [colour[1] for colour in self.pixels]\n",
    "        B = [colour[2] for colour in self.pixels]\n",
    "\n",
    "        R = sum(R) / len(R)\n",
    "        G = sum(G) / len(G)\n",
    "        B = sum(B) / len(B)\n",
    "\n",
    "        self.centroid = (R, G, B)\n",
    "        self.pixels = []\n",
    "\n",
    "        return self.centroid\n",
    "\n",
    "class Kmeans(object):\n",
    "    def __init__(self, k=3, max_iterations=5, min_distance=5.0, size=200):\n",
    "        self.k = k\n",
    "        self.max_iterations = max_iterations\n",
    "        self.min_distance = min_distance\n",
    "        self.size = (size, size)\n",
    "\n",
    "    def run(self, image):\n",
    "        self.image = image\n",
    "        self.image.thumbnail(self.size)\n",
    "        self.pixels = numpy.array(image.getdata(), dtype=numpy.uint8)\n",
    "\n",
    "        self.clusters = [None for i in range(self.k)]\n",
    "        self.oldClusters = None\n",
    "\n",
    "        randomPixels = random.sample(self.pixels, self.k)\n",
    "\n",
    "        for idx in range(self.k):\n",
    "            self.clusters[idx] = Cluster()\n",
    "            self.clusters[idx].centroid = randomPixels[idx]\n",
    "\n",
    "        iterations = 0\n",
    "\n",
    "        while self.shouldExit(iterations) is False:\n",
    "\n",
    "            self.oldClusters = [cluster.centroid for cluster in self.clusters]\n",
    "\n",
    "            print(iterations)\n",
    "\n",
    "            for pixel in self.pixels:\n",
    "                self.assignClusters(pixel)\n",
    "\n",
    "            for cluster in self.clusters:\n",
    "                cluster.setNewCentroid()\n",
    "\n",
    "            iterations += 1\n",
    "\n",
    "        return [cluster.centroid for cluster in self.clusters]\n",
    "\n",
    "    def assignClusters(self, pixel):\n",
    "        shortest = float('Inf')\n",
    "        for cluster in self.clusters:\n",
    "            distance = self.calcDistance(cluster.centroid, pixel)\n",
    "            if distance < shortest:\n",
    "                shortest = distance\n",
    "                nearest = cluster\n",
    "\n",
    "        nearest.addPoint(pixel)\n",
    "\n",
    "    def calcDistance(self, a, b):\n",
    "\n",
    "        result = numpy.sqrt(sum((a - b) ** 2))\n",
    "        return result\n",
    "\n",
    "    def shouldExit(self, iterations):\n",
    "\n",
    "        if self.oldClusters is None:\n",
    "            return False\n",
    "\n",
    "        for idx in range(self.k):\n",
    "            dist = self.calcDistance(\n",
    "                numpy.array(self.clusters[idx].centroid),\n",
    "                numpy.array(self.oldClusters[idx])\n",
    "            )\n",
    "            if dist < self.min_distance:\n",
    "                return True\n",
    "\n",
    "        if iterations <= self.max_iterations:\n",
    "            return False\n",
    "\n",
    "        return True\n",
    "\n",
    "    # ############################################\n",
    "    # The remaining methods are used for debugging\n",
    "    def showImage(self):\n",
    "        self.image.show()\n",
    "\n",
    "    def showCentroidColours(self):\n",
    "\n",
    "        for cluster in self.clusters:\n",
    "            image = Image.new(\"RGB\", (200, 200), cluster.centroid)\n",
    "            #image.show()\n",
    "            plt.imshow(image)\n",
    "            plt.show()\n",
    "\n",
    "    def showClustering(self):\n",
    "\n",
    "        localPixels = [None] * len(self.image.getdata())\n",
    "\n",
    "        for idx, pixel in enumerate(self.pixels):\n",
    "                shortest = float('Inf')\n",
    "                for cluster in self.clusters:\n",
    "                    distance = self.calcDistance(\n",
    "                        cluster.centroid,\n",
    "                        pixel\n",
    "                    )\n",
    "                    if distance < shortest:\n",
    "                        shortest = distance\n",
    "                        nearest = cluster\n",
    "\n",
    "                localPixels[idx] = nearest.centroid\n",
    "\n",
    "        w, h = self.image.size\n",
    "        localPixels = numpy.asarray(localPixels)\\\n",
    "            .astype('uint8')\\\n",
    "            .reshape((h, w, 3))\n",
    "\n",
    "        colourMap = Image.fromarray(localPixels)\n",
    "        #colourMap.show()\n",
    "        imshow(colourMap)"
   ]
  },
  {
   "cell_type": "code",
   "execution_count": 48,
   "metadata": {
    "collapsed": true
   },
   "outputs": [],
   "source": [
    "def get_most_freq_c(url):\n",
    "    response = requests.get(url)\n",
    "    image = Image.open(BytesIO(response.content))\n",
    "    return most_frequent_color(image)"
   ]
  },
  {
   "cell_type": "code",
   "execution_count": 49,
   "metadata": {},
   "outputs": [],
   "source": [
    "movie_df['most_freq_color'] = movie_df['poster_path'].apply(get_most_freq_c)"
   ]
  },
  {
   "cell_type": "code",
   "execution_count": 50,
   "metadata": {},
   "outputs": [
    {
     "name": "stdout",
     "output_type": "stream",
     "text": [
      "(752, (1, 144, 222))\n"
     ]
    },
    {
     "data": {
      "text/plain": [
       "<matplotlib.image.AxesImage at 0x17caea16cc0>"
      ]
     },
     "execution_count": 50,
     "metadata": {},
     "output_type": "execute_result"
    },
    {
     "data": {
      "image/png": "[encoded data removed]",
      "text/plain": [
       "<matplotlib.figure.Figure at 0x17cae99a9b0>"
      ]
     },
     "metadata": {},
     "output_type": "display_data"
    }
   ],
   "source": [
    "print(movie_df.loc[862]['most_freq_color'])\n",
    "image = Image.new(\"RGB\", (200, 200,), movie_df.loc[862]['most_freq_color'][1])\n",
    "imshow(image)"
   ]
  },
  {
   "cell_type": "code",
   "execution_count": 47,
   "metadata": {},
   "outputs": [
    {
     "name": "stdout",
     "output_type": "stream",
     "text": [
      "belongs_to_collection                                 Toy Story Collection\n",
      "budget                                                            30000000\n",
      "genres                                         [Animation, Comedy, Family]\n",
      "homepage                                                                 1\n",
      "original_language                                                       en\n",
      "overview                 Led by Woody, Andy's toys live happily in his ...\n",
      "poster_path              http://image.tmdb.org/t/p/w185/rhIRbceoE9lR4ve...\n",
      "production_companies                             [Pixar Animation Studios]\n",
      "production_countries                            [United States of America]\n",
      "release_date                                                    10/30/1995\n",
      "revenue                                                        3.73554e+08\n",
      "runtime                                                                 81\n",
      "spoken_languages                                                 [English]\n",
      "tagline                                                                  0\n",
      "title                                                            Toy Story\n",
      "vote_average                                                           7.7\n",
      "vote_count                                                            5415\n",
      "keywords                 [jealousy, toy, boy, friendship, friends, riva...\n",
      "cast                     [Tom Hanks, Tim Allen, Don Rickles, Jim Varney...\n",
      "crew                     [John Lasseter, Joss Whedon, Andrew Stanton, J...\n",
      "most_freq_color                                              (1, 144, 222)\n",
      "Name: 862, dtype: object\n"
     ]
    }
   ],
   "source": [
    "print(movie_df.loc[862])"
   ]
  },
  {
   "cell_type": "code",
   "execution_count": 53,
   "metadata": {
    "collapsed": true
   },
   "outputs": [],
   "source": [
    "makeCSV(movie_df, 'frequent.csv')"
   ]
  },
  {
   "cell_type": "code",
   "execution_count": null,
   "metadata": {
    "collapsed": true
   },
   "outputs": [],
   "source": []
  }
 ],
 "metadata": {
  "kernelspec": {
   "display_name": "Python 3",
   "language": "python",
   "name": "python3"
  },
  "language_info": {
   "codemirror_mode": {
    "name": "ipython",
    "version": 3
   },
   "file_extension": ".py",
   "mimetype": "text/x-python",
   "name": "python",
   "nbconvert_exporter": "python",
   "pygments_lexer": "ipython3",
   "version": "3.6.3"
  }
 },
 "nbformat": 4,
 "nbformat_minor": 2
}
