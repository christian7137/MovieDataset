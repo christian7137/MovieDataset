{
 "cells": [
  {
   "cell_type": "markdown",
   "metadata": {},
   "source": [
    "## Temp"
   ]
  },
  {
   "cell_type": "code",
   "execution_count": 4,
   "metadata": {
    "collapsed": true
   },
   "outputs": [],
   "source": [
    "# General imports here.\n",
    "import pandas as pd\n",
    "import numpy as np\n",
    "import sklearn as sk\n",
    "import math\n",
    "import matplotlib.pyplot as plt\n",
    "%matplotlib inline"
   ]
  },
  {
   "cell_type": "code",
   "execution_count": 19,
   "metadata": {},
   "outputs": [
    {
     "name": "stderr",
     "output_type": "stream",
     "text": [
      "C:\\Users\\chris\\Anaconda3\\lib\\site-packages\\IPython\\core\\interactiveshell.py:2698: DtypeWarning: Columns (10) have mixed types. Specify dtype option on import or set low_memory=False.\n",
      "  interactivity=interactivity, compiler=compiler, result=result)\n"
     ]
    }
   ],
   "source": [
    "# Read the csv files and index appropriately.\n",
    "ratings_small_df = pd.read_csv('./data/ratings_small.csv')\n",
    "ratings_df = pd.read_csv('./data/ratings.csv')\n",
    "links_small_df = pd.read_csv('./data/links_small.csv')\n",
    "links_df = pd.read_csv('./data/links.csv')\n",
    "keywords_df = pd.read_csv('./data/keywords.csv')\n",
    "credits_df = pd.read_csv('./data/credits.csv')\n",
    "metadata_df = pd.read_csv('./data/movies_metadata.csv')\n",
    "# Reading the movies_metadata.csv file throws a DtypeWarning.\n",
    "# TODO: Make sure that doesn't matter."
   ]
  },
  {
   "cell_type": "code",
   "execution_count": 31,
   "metadata": {
    "collapsed": true
   },
   "outputs": [],
   "source": [
    "dataframes = (ratings_small_df, ratings_df, links_small_df, links_df, keywords_df, credits_df, metadata_df)\n",
    "# Pandas DataFrames don't have name attributes.\n",
    "df_names = (\"ratings_small\", \"ratings\", \"links_small\", \"links\", \"keywords\", \"credits\", \"movies_metadata\")"
   ]
  },
  {
   "cell_type": "code",
   "execution_count": 56,
   "metadata": {},
   "outputs": [
    {
     "name": "stdout",
     "output_type": "stream",
     "text": [
      "\n",
      "Dataframe: ratings_small\n",
      "NaN Values:\n",
      "userId       0\n",
      "movieId      0\n",
      "rating       0\n",
      "timestamp    0\n",
      "dtype: int64\n",
      "\n",
      "Dataframe: ratings\n",
      "NaN Values:\n",
      "userId       0\n",
      "movieId      0\n",
      "rating       0\n",
      "timestamp    0\n",
      "dtype: int64\n",
      "\n",
      "Dataframe: links_small\n",
      "NaN Values:\n",
      "movieId     0\n",
      "imdbId      0\n",
      "tmdbId     13\n",
      "dtype: int64\n",
      "\n",
      "Dataframe: links\n",
      "NaN Values:\n",
      "movieId      0\n",
      "imdbId       0\n",
      "tmdbId     219\n",
      "dtype: int64\n",
      "\n",
      "Dataframe: keywords\n",
      "NaN Values:\n",
      "id          0\n",
      "keywords    0\n",
      "dtype: int64\n",
      "\n",
      "Dataframe: credits\n",
      "NaN Values:\n",
      "cast    0\n",
      "crew    0\n",
      "id      0\n",
      "dtype: int64\n",
      "\n",
      "Dataframe: movies_metadata\n",
      "NaN Values:\n",
      "adult                        0\n",
      "belongs_to_collection    40972\n",
      "budget                       0\n",
      "genres                       0\n",
      "homepage                 37684\n",
      "id                           0\n",
      "imdb_id                     17\n",
      "original_language           11\n",
      "original_title               0\n",
      "overview                   954\n",
      "popularity                   5\n",
      "poster_path                386\n",
      "production_companies         3\n",
      "production_countries         3\n",
      "release_date                87\n",
      "revenue                      6\n",
      "runtime                    263\n",
      "spoken_languages             6\n",
      "status                      87\n",
      "tagline                  25054\n",
      "title                        6\n",
      "video                        6\n",
      "vote_average                 6\n",
      "vote_count                   6\n",
      "dtype: int64\n"
     ]
    }
   ],
   "source": [
    "# Print the names of all the features in each file.\n",
    "for df, name in zip(dataframes, df_names):\n",
    "    print(\"\\n\" + \"Dataframe: \" + name + \"\\nNaN Values:\")\n",
    "    print(df.isnull().sum())"
   ]
  },
  {
   "cell_type": "code",
   "execution_count": 61,
   "metadata": {},
   "outputs": [
    {
     "name": "stdout",
     "output_type": "stream",
     "text": [
      "[    862.    8844.   15602. ...,  391698.  137608.  410803.]\n"
     ]
    }
   ],
   "source": [
    "# links_small has some NaN values. Print the unique values to see what we're expecting. \n",
    "print(links_small_df.tmdbId.unique())\n",
    "# It's in the tmdbId column, which seem to be ID numbers for some movies.\n",
    "# We probably won't use links in actual analysis, so I'm not going to worry about it."
   ]
  },
  {
   "cell_type": "code",
   "execution_count": 66,
   "metadata": {},
   "outputs": [
    {
     "data": {
      "text/html": [
       "<div>\n",
       "<style>\n",
       "    .dataframe thead tr:only-child th {\n",
       "        text-align: right;\n",
       "    }\n",
       "\n",
       "    .dataframe thead th {\n",
       "        text-align: left;\n",
       "    }\n",
       "\n",
       "    .dataframe tbody tr th {\n",
       "        vertical-align: top;\n",
       "    }\n",
       "</style>\n",
       "<table border=\"1\" class=\"dataframe\">\n",
       "  <thead>\n",
       "    <tr style=\"text-align: right;\">\n",
       "      <th></th>\n",
       "      <th>adult</th>\n",
       "      <th>belongs_to_collection</th>\n",
       "      <th>budget</th>\n",
       "      <th>genres</th>\n",
       "      <th>homepage</th>\n",
       "      <th>id</th>\n",
       "      <th>imdb_id</th>\n",
       "      <th>original_language</th>\n",
       "      <th>original_title</th>\n",
       "      <th>overview</th>\n",
       "      <th>...</th>\n",
       "      <th>release_date</th>\n",
       "      <th>revenue</th>\n",
       "      <th>runtime</th>\n",
       "      <th>spoken_languages</th>\n",
       "      <th>status</th>\n",
       "      <th>tagline</th>\n",
       "      <th>title</th>\n",
       "      <th>video</th>\n",
       "      <th>vote_average</th>\n",
       "      <th>vote_count</th>\n",
       "    </tr>\n",
       "  </thead>\n",
       "  <tbody>\n",
       "    <tr>\n",
       "      <th>0</th>\n",
       "      <td>False</td>\n",
       "      <td>{'id': 10194, 'name': 'Toy Story Collection', ...</td>\n",
       "      <td>30000000</td>\n",
       "      <td>[{'id': 16, 'name': 'Animation'}, {'id': 35, '...</td>\n",
       "      <td>http://toystory.disney.com/toy-story</td>\n",
       "      <td>862</td>\n",
       "      <td>tt0114709</td>\n",
       "      <td>en</td>\n",
       "      <td>Toy Story</td>\n",
       "      <td>Led by Woody, Andy's toys live happily in his ...</td>\n",
       "      <td>...</td>\n",
       "      <td>1995-10-30</td>\n",
       "      <td>373554033.0</td>\n",
       "      <td>81.0</td>\n",
       "      <td>[{'iso_639_1': 'en', 'name': 'English'}]</td>\n",
       "      <td>Released</td>\n",
       "      <td>NaN</td>\n",
       "      <td>Toy Story</td>\n",
       "      <td>False</td>\n",
       "      <td>7.7</td>\n",
       "      <td>5415.0</td>\n",
       "    </tr>\n",
       "    <tr>\n",
       "      <th>1</th>\n",
       "      <td>False</td>\n",
       "      <td>NaN</td>\n",
       "      <td>65000000</td>\n",
       "      <td>[{'id': 12, 'name': 'Adventure'}, {'id': 14, '...</td>\n",
       "      <td>NaN</td>\n",
       "      <td>8844</td>\n",
       "      <td>tt0113497</td>\n",
       "      <td>en</td>\n",
       "      <td>Jumanji</td>\n",
       "      <td>When siblings Judy and Peter discover an encha...</td>\n",
       "      <td>...</td>\n",
       "      <td>1995-12-15</td>\n",
       "      <td>262797249.0</td>\n",
       "      <td>104.0</td>\n",
       "      <td>[{'iso_639_1': 'en', 'name': 'English'}, {'iso...</td>\n",
       "      <td>Released</td>\n",
       "      <td>Roll the dice and unleash the excitement!</td>\n",
       "      <td>Jumanji</td>\n",
       "      <td>False</td>\n",
       "      <td>6.9</td>\n",
       "      <td>2413.0</td>\n",
       "    </tr>\n",
       "  </tbody>\n",
       "</table>\n",
       "<p>2 rows × 24 columns</p>\n",
       "</div>"
      ],
      "text/plain": [
       "   adult                              belongs_to_collection    budget  \\\n",
       "0  False  {'id': 10194, 'name': 'Toy Story Collection', ...  30000000   \n",
       "1  False                                                NaN  65000000   \n",
       "\n",
       "                                              genres  \\\n",
       "0  [{'id': 16, 'name': 'Animation'}, {'id': 35, '...   \n",
       "1  [{'id': 12, 'name': 'Adventure'}, {'id': 14, '...   \n",
       "\n",
       "                               homepage    id    imdb_id original_language  \\\n",
       "0  http://toystory.disney.com/toy-story   862  tt0114709                en   \n",
       "1                                   NaN  8844  tt0113497                en   \n",
       "\n",
       "  original_title                                           overview  \\\n",
       "0      Toy Story  Led by Woody, Andy's toys live happily in his ...   \n",
       "1        Jumanji  When siblings Judy and Peter discover an encha...   \n",
       "\n",
       "     ...     release_date      revenue runtime  \\\n",
       "0    ...       1995-10-30  373554033.0    81.0   \n",
       "1    ...       1995-12-15  262797249.0   104.0   \n",
       "\n",
       "                                    spoken_languages    status  \\\n",
       "0           [{'iso_639_1': 'en', 'name': 'English'}]  Released   \n",
       "1  [{'iso_639_1': 'en', 'name': 'English'}, {'iso...  Released   \n",
       "\n",
       "                                     tagline      title  video vote_average  \\\n",
       "0                                        NaN  Toy Story  False          7.7   \n",
       "1  Roll the dice and unleash the excitement!    Jumanji  False          6.9   \n",
       "\n",
       "  vote_count  \n",
       "0     5415.0  \n",
       "1     2413.0  \n",
       "\n",
       "[2 rows x 24 columns]"
      ]
     },
     "execution_count": 66,
     "metadata": {},
     "output_type": "execute_result"
    }
   ],
   "source": [
    "# Lots of NaNs in movie_metadata, just print out the first couple of entries to see what's going on.\n",
    "metadata_df.head(2)\n",
    "# belongs_to_collection seems fine, that's not simple data and is probably just Python being confused about what to expect.\n",
    "# homepage throws NaN when there's not a homepage it seems. Probably want to do a one-hot replacement here.\n",
    "# imdb_id is missing 17 IDs, we should probably just drop these movies.\n",
    "# original_language: 11, just drop them.\n",
    "# overview:\n",
    "# popularity: 5, just drop them.\n",
    "# poster_path:\n",
    "# production (general): Just names of companies/countries. Just drop the 3 movies.\n",
    "# release_date: should probably just drop the samples with missing values, I can't think of a way to fill in the values.\n",
    "# revenue, spoken languages, title, video, votes all have 6 NaNs. I'd wager they're the same movies, we should drop the samples.\n",
    "# runtime: We can probably just fill in with a mean/median.\n",
    "# status: We should do some sort of hot-encoding here, then the NaNs will just be columns of 0. Will print uniques to check.\n",
    "# tagline: Until we actually analyze the taglines, I think we should just replace with a tag_presence one-hot variable"
   ]
  },
  {
   "cell_type": "code",
   "execution_count": 67,
   "metadata": {},
   "outputs": [
    {
     "name": "stdout",
     "output_type": "stream",
     "text": [
      "['Released' nan 'Rumored' 'Post Production' 'In Production' 'Planned'\n",
      " 'Canceled']\n"
     ]
    }
   ],
   "source": [
    "print(metadata_df.status.unique())\n",
    "# 6 one-hot variables don't seem too bad. It's an option."
   ]
  },
  {
   "cell_type": "code",
   "execution_count": 33,
   "metadata": {},
   "outputs": [
    {
     "name": "stdout",
     "output_type": "stream",
     "text": [
      "\n",
      "Dataframe: ratings_small\n",
      "\n",
      "              userId        movieId         rating     timestamp\n",
      "count  100004.000000  100004.000000  100004.000000  1.000040e+05\n",
      "mean      347.011310   12548.664363       3.543608  1.129639e+09\n",
      "std       195.163838   26369.198969       1.058064  1.916858e+08\n",
      "min         1.000000       1.000000       0.500000  7.896520e+08\n",
      "25%       182.000000    1028.000000       3.000000  9.658478e+08\n",
      "50%       367.000000    2406.500000       4.000000  1.110422e+09\n",
      "75%       520.000000    5418.000000       4.000000  1.296192e+09\n",
      "max       671.000000  163949.000000       5.000000  1.476641e+09\n",
      "\n",
      "Dataframe: ratings\n",
      "\n",
      "             userId       movieId        rating     timestamp\n",
      "count  2.602429e+07  2.602429e+07  2.602429e+07  2.602429e+07\n",
      "mean   1.350371e+05  1.584911e+04  3.528090e+00  1.171258e+09\n",
      "std    7.817620e+04  3.108526e+04  1.065443e+00  2.052889e+08\n",
      "min    1.000000e+00  1.000000e+00  5.000000e-01  7.896520e+08\n",
      "25%    6.716400e+04  1.073000e+03  3.000000e+00  9.907545e+08\n",
      "50%    1.351630e+05  2.583000e+03  3.500000e+00  1.151716e+09\n",
      "75%    2.026930e+05  6.503000e+03  4.000000e+00  1.357578e+09\n",
      "max    2.708960e+05  1.762750e+05  5.000000e+00  1.501830e+09\n",
      "\n",
      "Dataframe: links_small\n",
      "\n",
      "             movieId        imdbId         tmdbId\n",
      "count    9125.000000  9.125000e+03    9112.000000\n",
      "mean    31123.291836  4.798244e+05   39104.545544\n",
      "std     40782.633604  7.431774e+05   62814.519801\n",
      "min         1.000000  4.170000e+02       2.000000\n",
      "25%      2850.000000  8.884600e+04    9451.750000\n",
      "50%      6290.000000  1.197780e+05   15852.000000\n",
      "75%     56274.000000  4.284410e+05   39160.500000\n",
      "max    164979.000000  5.794766e+06  416437.000000\n",
      "\n",
      "Dataframe: links\n",
      "\n",
      "             movieId        imdbId         tmdbId\n",
      "count   45843.000000  4.584300e+04   45624.000000\n",
      "mean    96578.775626  9.937080e+05  108661.382847\n",
      "std     57216.863469  1.361924e+06  112665.970830\n",
      "min         1.000000  1.000000e+00       2.000000\n",
      "25%     49202.500000  8.333050e+04   26502.750000\n",
      "50%    108799.000000  2.839910e+05   60178.000000\n",
      "75%    145270.500000  1.538311e+06  157849.500000\n",
      "max    176279.000000  7.158814e+06  469172.000000\n",
      "\n",
      "Dataframe: keywords\n",
      "\n",
      "                  id\n",
      "count   46419.000000\n",
      "mean   109769.951873\n",
      "std    113045.780256\n",
      "min         2.000000\n",
      "25%     26810.500000\n",
      "50%     61198.000000\n",
      "75%    159908.500000\n",
      "max    469172.000000\n",
      "\n",
      "Dataframe: credits\n",
      "\n",
      "                  id\n",
      "count   45476.000000\n",
      "mean   108345.997537\n",
      "std    112443.796536\n",
      "min         2.000000\n",
      "25%     26443.250000\n",
      "50%     60002.500000\n",
      "75%    157302.000000\n",
      "max    469172.000000\n",
      "\n",
      "Dataframe: movies_metadata\n",
      "\n",
      "            revenue       runtime  vote_average    vote_count\n",
      "count  4.546000e+04  45203.000000  45460.000000  45460.000000\n",
      "mean   1.120935e+07     94.128199      5.618207    109.897338\n",
      "std    6.433225e+07     38.407810      1.924216    491.310374\n",
      "min    0.000000e+00      0.000000      0.000000      0.000000\n",
      "25%    0.000000e+00     85.000000      5.000000      3.000000\n",
      "50%    0.000000e+00     95.000000      6.000000     10.000000\n",
      "75%    0.000000e+00    107.000000      6.800000     34.000000\n",
      "max    2.787965e+09   1256.000000     10.000000  14075.000000\n"
     ]
    }
   ],
   "source": [
    "for df, name in zip(dataframes, df_names):\n",
    "    print(\"\\n\" + \"Dataframe: \" + name + \"\\n\")\n",
    "    print(df.describe())"
   ]
  },
  {
   "cell_type": "code",
   "execution_count": 50,
   "metadata": {},
   "outputs": [
    {
     "data": {
      "text/plain": [
       "'\\nfor df, name in zip(dataframes, df_names):\\n    plt.figure()\\n    #print(\"\\n\" + \"Dataframe: \" + name + \"\\n\")\\n    df.hist(figsize=(8,8))\\n'"
      ]
     },
     "execution_count": 50,
     "metadata": {},
     "output_type": "execute_result"
    }
   ],
   "source": [
    "\"\"\"\n",
    "for df, name in zip(dataframes, df_names):\n",
    "    plt.figure()\n",
    "    #print(\"\\n\" + \"Dataframe: \" + name + \"\\n\")\n",
    "    df.hist(figsize=(8,8))\n",
    "\"\"\""
   ]
  },
  {
   "cell_type": "code",
   "execution_count": 70,
   "metadata": {},
   "outputs": [
    {
     "data": {
      "image/png": "[encoded data removed]",
      "text/plain": [
       "<matplotlib.figure.Figure at 0x1b501822eb8>"
      ]
     },
     "metadata": {},
     "output_type": "display_data"
    }
   ],
   "source": [
    "# A quick heatmap of movie_metadata. It seems revenue and the number of votes are correlated.\n",
    "import seaborn as sns\n",
    "corr = metadata_df.corr()\n",
    "mask = np.zeros_like(corr)\n",
    "mask[np.triu_indices_from(mask)] = True\n",
    "plt.figure(figsize=(12, 12))\n",
    "_ = sns.heatmap(corr, vmax=1, vmin=-1, mask=mask, square=True, annot=False, linewidths=0.2, center=0)"
   ]
  },
  {
   "cell_type": "code",
   "execution_count": null,
   "metadata": {
    "collapsed": true
   },
   "outputs": [],
   "source": []
  }
 ],
 "metadata": {
  "kernelspec": {
   "display_name": "Python 3",
   "language": "python",
   "name": "python3"
  },
  "language_info": {
   "codemirror_mode": {
    "name": "ipython",
    "version": 3
   },
   "file_extension": ".py",
   "mimetype": "text/x-python",
   "name": "python",
   "nbconvert_exporter": "python",
   "pygments_lexer": "ipython3",
   "version": "3.6.3"
  }
 },
 "nbformat": 4,
 "nbformat_minor": 2
}
